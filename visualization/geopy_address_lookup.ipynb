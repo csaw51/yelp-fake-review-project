{
 "cells": [
  {
   "cell_type": "code",
   "execution_count": 1,
   "metadata": {},
   "outputs": [],
   "source": [
    "import json\n",
    "import geopy\n",
    "import pandas as pd\n",
    "fPath= \"C:/Users/maples/Documents/GT/Visual Analytics/project/yelp_academic_dataset_business.json\"\n",
    "data_file = open(fPath, encoding=\"utf8\")\n",
    "data = []\n",
    "#read in business data and create dataframe\n",
    "for line in data_file:\n",
    "    #print(line)\n",
    "    data.append(json.loads(line))\n",
    "bus_df = pd.DataFrame(data)\n",
    "data_file.close()"
   ]
  },
  {
   "cell_type": "code",
   "execution_count": 123,
   "metadata": {},
   "outputs": [],
   "source": [
    "#function to grab address based on latitude and longitude\n",
    "def get_address(df, geolocator, lat_field, lon_field):\n",
    "    location = geolocator.reverse((df[lat_field], df[lon_field]))\n",
    "    return location[0]\n",
    "\n",
    "\n",
    "geolocator = geopy.Nominatim(user_agent='9345')\n",
    "#list to contain addresses\n",
    "res = []"
   ]
  },
  {
   "cell_type": "code",
   "execution_count": null,
   "metadata": {},
   "outputs": [],
   "source": [
    "#loop until all addresses are captured, may have to rerun if Nominatim call fails \n",
    "#append each new address to res\n",
    "for i in range(len(res), len(bus_df)):\n",
    "    tmp = get_address(bus_df.loc[i,:], geolocator=geolocator, lat_field='latitude', lon_field='longitude')\n",
    "    res.append(tmp)"
   ]
  },
  {
   "cell_type": "code",
   "execution_count": 5,
   "metadata": {},
   "outputs": [],
   "source": [
    "#add cleaned addresses to business dataframe\n",
    "bus_df[\"cleaned_address\"] = res"
   ]
  },
  {
   "cell_type": "code",
   "execution_count": 127,
   "metadata": {},
   "outputs": [],
   "source": [
    "#write to csv\n",
    "bus_df.to_csv(\"C:/Users/maples/Documents/GT/Visual Analytics/project/bus_with_addresses.csv\")\n"
   ]
  }
 ],
 "metadata": {
  "kernelspec": {
   "display_name": "Python 3",
   "language": "python",
   "name": "python3"
  },
  "language_info": {
   "codemirror_mode": {
    "name": "ipython",
    "version": 3
   },
   "file_extension": ".py",
   "mimetype": "text/x-python",
   "name": "python",
   "nbconvert_exporter": "python",
   "pygments_lexer": "ipython3",
   "version": "3.8.2"
  },
  "orig_nbformat": 4,
  "vscode": {
   "interpreter": {
    "hash": "e11515ce992c1fb9c64ff9d29c51ced7374476a0008391f09faa6846c4ae6100"
   }
  }
 },
 "nbformat": 4,
 "nbformat_minor": 2
}
