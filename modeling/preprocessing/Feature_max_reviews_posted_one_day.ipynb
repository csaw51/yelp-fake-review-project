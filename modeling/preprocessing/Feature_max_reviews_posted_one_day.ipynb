{
 "cells": [
  {
   "cell_type": "code",
   "execution_count": 1,
   "id": "c1d84053",
   "metadata": {},
   "outputs": [],
   "source": [
    "import pandas as pd\n",
    "import numpy as np\n",
    "import re"
   ]
  },
  {
   "cell_type": "code",
   "execution_count": 2,
   "id": "749c3b77",
   "metadata": {},
   "outputs": [
    {
     "name": "stdout",
     "output_type": "stream",
     "text": [
      "   user_id  prod_id        date  \\\n",
      "0     5044        0  2014-11-16   \n",
      "1     5045        0  2014-09-08   \n",
      "2     5046        0  2013-10-06   \n",
      "3     5047        0  2014-11-30   \n",
      "4     5048        0  2014-08-28   \n",
      "\n",
      "                                              review  rating  label  \n",
      "0  Drinks were bad, the hot chocolate was watered...     1.0     -1  \n",
      "1  This was the worst experience I've ever had a ...     1.0     -1  \n",
      "2  This is located on the site of the old Spruce ...     3.0     -1  \n",
      "3  I enjoyed coffee and breakfast twice at Toast ...     5.0     -1  \n",
      "4  I love Toast! The food choices are fantastic -...     5.0     -1  \n",
      "length of data: 608598\n",
      "check the null data: False\n"
     ]
    }
   ],
   "source": [
    "file_review3=\"C:/Users/Lu/PycharmProjects/Group_Project/orig_review_with_labeling_608598rows.txt\"\n",
    "review3=pd.read_csv(file_review3,sep=\"\\t\",header=None)\n",
    "review3.columns=['user_id', 'prod_id', 'date', 'review', 'rating', 'label']\n",
    "print(review3.head())\n",
    "print(\"length of data:\",len(review3))\n",
    "print(\"check the null data:\",review3.isnull().values.any())"
   ]
  },
  {
   "cell_type": "code",
   "execution_count": 81,
   "id": "822e55d5",
   "metadata": {},
   "outputs": [
    {
     "name": "stdout",
     "output_type": "stream",
     "text": [
      "   user_id        date                                             review\n",
      "0     5044  2014-11-16  Drinks were bad, the hot chocolate was watered...\n",
      "1     5045  2014-09-08  This was the worst experience I've ever had a ...\n",
      "2     5046  2013-10-06  This is located on the site of the old Spruce ...\n",
      "3     5047  2014-11-30  I enjoyed coffee and breakfast twice at Toast ...\n",
      "4     5048  2014-08-28  I love Toast! The food choices are fantastic -...\n"
     ]
    }
   ],
   "source": [
    "data=review3[['user_id','date','review']]\n",
    "print(data.head())"
   ]
  },
  {
   "cell_type": "code",
   "execution_count": 82,
   "id": "0e0508ae",
   "metadata": {},
   "outputs": [
    {
     "name": "stderr",
     "output_type": "stream",
     "text": [
      "C:\\Users\\Lu\\AppData\\Local\\Temp\\ipykernel_22964\\736794659.py:1: SettingWithCopyWarning: \n",
      "A value is trying to be set on a copy of a slice from a DataFrame.\n",
      "Try using .loc[row_indexer,col_indexer] = value instead\n",
      "\n",
      "See the caveats in the documentation: https://pandas.pydata.org/pandas-docs/stable/user_guide/indexing.html#returning-a-view-versus-a-copy\n",
      "  data['date'] = pd.to_datetime(data['date'])\n"
     ]
    }
   ],
   "source": [
    "data['date'] = pd.to_datetime(data['date'])"
   ]
  },
  {
   "cell_type": "code",
   "execution_count": 83,
   "id": "da3d7fe3",
   "metadata": {},
   "outputs": [
    {
     "name": "stdout",
     "output_type": "stream",
     "text": [
      "   user_id       date                                             review\n",
      "0     5044 2014-11-16  Drinks were bad, the hot chocolate was watered...\n",
      "1     5045 2014-09-08  This was the worst experience I've ever had a ...\n",
      "2     5046 2013-10-06  This is located on the site of the old Spruce ...\n",
      "3     5047 2014-11-30  I enjoyed coffee and breakfast twice at Toast ...\n",
      "4     5048 2014-08-28  I love Toast! The food choices are fantastic -...\n"
     ]
    }
   ],
   "source": [
    "print(data.head())"
   ]
  },
  {
   "cell_type": "code",
   "execution_count": 84,
   "id": "b6a96740",
   "metadata": {},
   "outputs": [
    {
     "name": "stdout",
     "output_type": "stream",
     "text": [
      "<class 'pandas._libs.tslibs.timestamps.Timestamp'>\n"
     ]
    }
   ],
   "source": [
    "print(type(data.iloc[0,1]))"
   ]
  },
  {
   "cell_type": "code",
   "execution_count": 85,
   "id": "65d6883f",
   "metadata": {},
   "outputs": [],
   "source": [
    "data=data.sort_values('user_id')"
   ]
  },
  {
   "cell_type": "code",
   "execution_count": 86,
   "id": "b2808b18",
   "metadata": {},
   "outputs": [
    {
     "name": "stdout",
     "output_type": "stream",
     "text": [
      "        user_id       date                                             review\n",
      "2          5046 2013-10-06  This is located on the site of the old Spruce ...\n",
      "3          5047 2014-11-30  I enjoyed coffee and breakfast twice at Toast ...\n",
      "4          5048 2014-08-28  I love Toast! The food choices are fantastic -...\n",
      "5          5049 2013-07-16  The egg on an English muffin (their take on eg...\n",
      "6          5050 2013-03-03  wonderful relaxed vibe and fantastic homemade ...\n",
      "7          5051 2014-12-05  Extremely slow kitchen. I went with an hour to...\n",
      "127448     5052 2014-11-26  I had the turducken and Alex had the angus bur...\n",
      "353887     5052 2014-12-17  Absolutely adored this place. You see, I'm a p...\n",
      "8          5052 2014-11-26  I really wanted to love toast. It's quaint and...\n",
      "427040     5053 2014-09-20  I have to say, being healthy takes a huge toll...\n",
      "137661     5053 2014-12-13  The trip down to Sansom is so worth it! The su...\n",
      "132806     5053 2014-08-20  Awesome soba salad here! My friend ordered the...\n",
      "523027     5053 2014-08-22  Hip City Veg is my FAVORITE place to eat in Un...\n",
      "470754     5053 2014-08-18  Had the Seared Tuna Tataki and it did not disa...\n",
      "425010     5053 2014-09-20  Coming from SF, I was totally surprised to fin...\n"
     ]
    }
   ],
   "source": [
    "print(data.iloc[5:20,:])"
   ]
  },
  {
   "cell_type": "code",
   "execution_count": 87,
   "id": "fc1da01d",
   "metadata": {},
   "outputs": [],
   "source": [
    "df=data.copy()"
   ]
  },
  {
   "cell_type": "code",
   "execution_count": 88,
   "id": "32ce07de",
   "metadata": {},
   "outputs": [
    {
     "name": "stderr",
     "output_type": "stream",
     "text": [
      "C:\\Users\\Lu\\AppData\\Local\\Temp\\ipykernel_22964\\1620777842.py:1: FutureWarning: Using the level keyword in DataFrame and Series aggregations is deprecated and will be removed in a future version. Use groupby instead. df.median(level=1) should use df.groupby(level=1).median().\n",
      "  df2=df.groupby([df.user_id, df.date])['review'].count().max(level=0)\n"
     ]
    }
   ],
   "source": [
    "df2=df.groupby([df.user_id, df.date])['review'].count().max(level=0)"
   ]
  },
  {
   "cell_type": "markdown",
   "id": "5ad2a425",
   "metadata": {},
   "source": [
    "### Get maximum number of reviews posted in one day by a reviewer"
   ]
  },
  {
   "cell_type": "code",
   "execution_count": 104,
   "id": "ea6518b3",
   "metadata": {},
   "outputs": [
    {
     "name": "stdout",
     "output_type": "stream",
     "text": [
      "user_id\n",
      "5044    1\n",
      "5045    1\n",
      "5046    1\n",
      "5047    1\n",
      "5048    1\n",
      "5049    1\n",
      "5050    1\n",
      "5051    1\n",
      "5052    2\n",
      "5053    2\n",
      "Name: review, dtype: int64\n"
     ]
    }
   ],
   "source": [
    "print(df2.head(10)) # this is pandas series, not pandas dataframe"
   ]
  },
  {
   "cell_type": "code",
   "execution_count": 105,
   "id": "b73d8110",
   "metadata": {},
   "outputs": [
    {
     "name": "stdout",
     "output_type": "stream",
     "text": [
      "         review\n",
      "user_id        \n",
      "5044          1\n",
      "5045          1\n",
      "5046          1\n",
      "5047          1\n",
      "5048          1\n"
     ]
    }
   ],
   "source": [
    "df3=df2.to_frame()\n",
    "print(df3.head())"
   ]
  },
  {
   "cell_type": "code",
   "execution_count": 106,
   "id": "73d65f7b",
   "metadata": {},
   "outputs": [
    {
     "name": "stdout",
     "output_type": "stream",
     "text": [
      "Index(['user_id', 'review'], dtype='object')\n"
     ]
    }
   ],
   "source": [
    "df3.reset_index(inplace=True)\n",
    "print(df3.columns)"
   ]
  },
  {
   "cell_type": "code",
   "execution_count": 107,
   "id": "c1ad2f85",
   "metadata": {},
   "outputs": [],
   "source": [
    "df3=df3.rename(columns={'user_id':'user_id', 'review':'max_reviews_one_day'})"
   ]
  },
  {
   "cell_type": "code",
   "execution_count": 108,
   "id": "174e5901",
   "metadata": {},
   "outputs": [
    {
     "name": "stdout",
     "output_type": "stream",
     "text": [
      "   user_id  max_reviews_one_day\n",
      "0     5044                    1\n",
      "1     5045                    1\n",
      "2     5046                    1\n",
      "3     5047                    1\n",
      "4     5048                    1\n",
      "5     5049                    1\n",
      "6     5050                    1\n",
      "7     5051                    1\n",
      "8     5052                    2\n",
      "9     5053                    2\n"
     ]
    }
   ],
   "source": [
    "print(df3.head(10))"
   ]
  },
  {
   "cell_type": "code",
   "execution_count": 110,
   "id": "5470fb88",
   "metadata": {},
   "outputs": [
    {
     "name": "stdout",
     "output_type": "stream",
     "text": [
      "   user_id  prod_id        date  \\\n",
      "0     5044        0  2014-11-16   \n",
      "1     5045        0  2014-09-08   \n",
      "2     5046        0  2013-10-06   \n",
      "3     5047        0  2014-11-30   \n",
      "4     5048        0  2014-08-28   \n",
      "\n",
      "                                              review  rating  label  \n",
      "0  Drinks were bad, the hot chocolate was watered...     1.0     -1  \n",
      "1  This was the worst experience I've ever had a ...     1.0     -1  \n",
      "2  This is located on the site of the old Spruce ...     3.0     -1  \n",
      "3  I enjoyed coffee and breakfast twice at Toast ...     5.0     -1  \n",
      "4  I love Toast! The food choices are fantastic -...     5.0     -1  \n"
     ]
    }
   ],
   "source": [
    "print(review3.head())"
   ]
  },
  {
   "cell_type": "markdown",
   "id": "d4f1147c",
   "metadata": {},
   "source": [
    "### Left join review3 with max_reviews_one_day"
   ]
  },
  {
   "cell_type": "code",
   "execution_count": 111,
   "id": "e1053771",
   "metadata": {},
   "outputs": [],
   "source": [
    "final_data=review3.merge(df3, on='user_id',how='left')"
   ]
  },
  {
   "cell_type": "code",
   "execution_count": 113,
   "id": "0a38683b",
   "metadata": {},
   "outputs": [
    {
     "name": "stdout",
     "output_type": "stream",
     "text": [
      "   user_id  prod_id        date  \\\n",
      "0     5044        0  2014-11-16   \n",
      "1     5045        0  2014-09-08   \n",
      "2     5046        0  2013-10-06   \n",
      "3     5047        0  2014-11-30   \n",
      "4     5048        0  2014-08-28   \n",
      "5     5049        0  2013-07-16   \n",
      "6     5050        0  2013-03-03   \n",
      "7     5051        0  2014-12-05   \n",
      "8     5052        0  2014-11-26   \n",
      "9     5053        0  2014-11-17   \n",
      "\n",
      "                                              review  rating  label  \\\n",
      "0  Drinks were bad, the hot chocolate was watered...     1.0     -1   \n",
      "1  This was the worst experience I've ever had a ...     1.0     -1   \n",
      "2  This is located on the site of the old Spruce ...     3.0     -1   \n",
      "3  I enjoyed coffee and breakfast twice at Toast ...     5.0     -1   \n",
      "4  I love Toast! The food choices are fantastic -...     5.0     -1   \n",
      "5  The egg on an English muffin (their take on eg...     5.0     -1   \n",
      "6  wonderful relaxed vibe and fantastic homemade ...     5.0     -1   \n",
      "7  Extremely slow kitchen. I went with an hour to...     1.0      1   \n",
      "8  I really wanted to love toast. It's quaint and...     2.0      1   \n",
      "9  First brunch experience here in Philly (actual...     4.0      1   \n",
      "\n",
      "   max_reviews_one_day  \n",
      "0                    1  \n",
      "1                    1  \n",
      "2                    1  \n",
      "3                    1  \n",
      "4                    1  \n",
      "5                    1  \n",
      "6                    1  \n",
      "7                    1  \n",
      "8                    2  \n",
      "9                    2  \n"
     ]
    }
   ],
   "source": [
    "print(final_data.head(10))"
   ]
  },
  {
   "cell_type": "code",
   "execution_count": 114,
   "id": "9e949b2c",
   "metadata": {},
   "outputs": [
    {
     "name": "stdout",
     "output_type": "stream",
     "text": [
      "608598\n"
     ]
    }
   ],
   "source": [
    "print(len(final_data))"
   ]
  },
  {
   "cell_type": "code",
   "execution_count": 115,
   "id": "ad8f1408",
   "metadata": {},
   "outputs": [],
   "source": [
    "from numpy import savetxt\n",
    "savetxt(\"feature_max_reviews_one_day.txt\",final_data,fmt=\"%s\",delimiter=\"\\t\",encoding=\"utf-8\")"
   ]
  },
  {
   "cell_type": "code",
   "execution_count": null,
   "id": "2a92b22d",
   "metadata": {},
   "outputs": [],
   "source": []
  }
 ],
 "metadata": {
  "kernelspec": {
   "display_name": "Python 3 (ipykernel)",
   "language": "python",
   "name": "python3"
  },
  "language_info": {
   "codemirror_mode": {
    "name": "ipython",
    "version": 3
   },
   "file_extension": ".py",
   "mimetype": "text/x-python",
   "name": "python",
   "nbconvert_exporter": "python",
   "pygments_lexer": "ipython3",
   "version": "3.9.12"
  }
 },
 "nbformat": 4,
 "nbformat_minor": 5
}
