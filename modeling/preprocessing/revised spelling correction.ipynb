{
 "cells": [
  {
   "cell_type": "code",
   "execution_count": 4,
   "id": "609a79af",
   "metadata": {},
   "outputs": [
    {
     "name": "stderr",
     "output_type": "stream",
     "text": [
      "[nltk_data] Downloading package words to\n",
      "[nltk_data]     C:\\Users\\Lu\\AppData\\Roaming\\nltk_data...\n",
      "[nltk_data]   Package words is already up-to-date!\n"
     ]
    }
   ],
   "source": [
    "from textblob import TextBlob\n",
    "import nltk\n",
    "from langdetect import detect\n",
    "nltk.download(\"words\")\n",
    "from nltk.corpus import words\n",
    "from nltk.metrics.distance import jaccard_distance\n",
    "from nltk.util import ngrams"
   ]
  },
  {
   "cell_type": "code",
   "execution_count": 9,
   "id": "1e76c013",
   "metadata": {},
   "outputs": [],
   "source": [
    "def correct_words3(list_words):\n",
    "    corrected=[]\n",
    "    for w in list_words:\n",
    "        if w not in interjections_list:\n",
    "            corrected.append(str(TextBlob(w).correct())) #Getting the object for the word\n",
    "        else:\n",
    "            corrected.append(w)\n",
    "\n",
    "    correct_words=words.words()\n",
    "    new_corrected=[]\n",
    "    for word in corrected:\n",
    "        try:\n",
    "            lang=detect(word) # detect which language the word belongs to \n",
    "            if lang==\"en\":\n",
    "                if word not in interjections_list:\n",
    "                    if len(word)<=1: #avoid division by zero problem\n",
    "                        new_corrected.append(word)\n",
    "                    else:\n",
    "                        temp = [(jaccard_distance(set(ngrams(word, 2)),\n",
    "                                                  set(ngrams(w, 2))), w)\n",
    "                                for w in correct_words if w[0] == word[0]]\n",
    "                        new_corrected.append(sorted(temp, key=lambda val: val[0])[0][1])\n",
    "                else:\n",
    "                    new_corrected.append(word)\n",
    "            else:\n",
    "                new_corrected.append(word)\n",
    "        except:\n",
    "            new_corrected.append(word)\n",
    "    corrected2=[]\n",
    "    for w in new_corrected:\n",
    "        if w not in interjections_list:\n",
    "            corrected2.append(str(TextBlob(w).correct())) #Getting the object for the word\n",
    "        else:\n",
    "            corrected2.append(w)\n",
    "\n",
    "    return corrected2"
   ]
  },
  {
   "cell_type": "code",
   "execution_count": 10,
   "id": "79a94116",
   "metadata": {},
   "outputs": [],
   "source": [
    "interjections_list=['aha','ahem','ahh','ahoy','alas','arg','aw', 'bam', 'bingo', \n",
    "          'blah', 'boo', 'bravo', 'brrr', 'cheers', 'congratulations', \n",
    "          'dang', 'drat', 'darn','duh', 'eek', 'eh', 'encore', 'eureka', \n",
    "          'fiddlesticks', 'gadzooks', 'gee', 'golly', 'goodness', 'gosh',\n",
    "          'haha', 'hallelujah', 'hey', 'hmm', 'huh','hurray', 'humph', \n",
    "          'oh', 'oops', 'ouch', 'ow', 'phew', 'phooey', 'pooh', 'pow', \n",
    "          'shh', 'shoo', 'ugh', 'wahoo', 'whoa', 'whoops', 'wow', \n",
    "          'yikes', 'yeah', 'yippee', 'yo', 'yuck']"
   ]
  },
  {
   "cell_type": "code",
   "execution_count": 11,
   "id": "cdf21a24",
   "metadata": {},
   "outputs": [
    {
     "name": "stdout",
     "output_type": "stream",
     "text": [
      "['正宗台灣排骨飯']\n"
     ]
    }
   ],
   "source": [
    "print(correct_words3(['正宗台灣排骨飯']))"
   ]
  },
  {
   "cell_type": "code",
   "execution_count": null,
   "id": "abe8584a",
   "metadata": {},
   "outputs": [],
   "source": []
  }
 ],
 "metadata": {
  "kernelspec": {
   "display_name": "Python 3 (ipykernel)",
   "language": "python",
   "name": "python3"
  },
  "language_info": {
   "codemirror_mode": {
    "name": "ipython",
    "version": 3
   },
   "file_extension": ".py",
   "mimetype": "text/x-python",
   "name": "python",
   "nbconvert_exporter": "python",
   "pygments_lexer": "ipython3",
   "version": "3.9.12"
  }
 },
 "nbformat": 4,
 "nbformat_minor": 5
}
