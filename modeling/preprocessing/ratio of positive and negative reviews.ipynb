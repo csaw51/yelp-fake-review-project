{
 "cells": [
  {
   "cell_type": "code",
   "execution_count": 1,
   "id": "1344863d",
   "metadata": {},
   "outputs": [],
   "source": [
    "import pandas as pd\n",
    "import numpy as np\n",
    "import re"
   ]
  },
  {
   "cell_type": "code",
   "execution_count": 2,
   "id": "cd8689e2",
   "metadata": {},
   "outputs": [
    {
     "name": "stdout",
     "output_type": "stream",
     "text": [
      "   user_id  prod_id        date  \\\n",
      "0     5044        0  2014-11-16   \n",
      "1     5045        0  2014-09-08   \n",
      "2     5046        0  2013-10-06   \n",
      "3     5047        0  2014-11-30   \n",
      "4     5048        0  2014-08-28   \n",
      "\n",
      "                                              review  rating  label  \n",
      "0  Drinks were bad, the hot chocolate was watered...     1.0     -1  \n",
      "1  This was the worst experience I've ever had a ...     1.0     -1  \n",
      "2  This is located on the site of the old Spruce ...     3.0     -1  \n",
      "3  I enjoyed coffee and breakfast twice at Toast ...     5.0     -1  \n",
      "4  I love Toast! The food choices are fantastic -...     5.0     -1  \n",
      "length of data: 608598\n",
      "check the null data: False\n"
     ]
    }
   ],
   "source": [
    "file_review3=\"C:/Users/Lu/PycharmProjects/Group_Project/orig_review_with_labeling_608598rows.txt\"\n",
    "review3=pd.read_csv(file_review3,sep=\"\\t\",header=None)\n",
    "review3.columns=['user_id', 'prod_id', 'date', 'review', 'rating', 'label']\n",
    "print(review3.head())\n",
    "print(\"length of data:\",len(review3))\n",
    "print(\"check the null data:\",review3.isnull().values.any())"
   ]
  },
  {
   "cell_type": "code",
   "execution_count": 10,
   "id": "6fcf4062",
   "metadata": {},
   "outputs": [
    {
     "name": "stdout",
     "output_type": "stream",
     "text": [
      "   user_id                                             review\n",
      "0     5044  Drinks were bad, the hot chocolate was watered...\n",
      "1     5045  This was the worst experience I've ever had a ...\n",
      "2     5046  This is located on the site of the old Spruce ...\n",
      "3     5047  I enjoyed coffee and breakfast twice at Toast ...\n",
      "4     5048  I love Toast! The food choices are fantastic -...\n"
     ]
    }
   ],
   "source": [
    "data=review3[['user_id','review']]\n",
    "print(data.head())"
   ]
  },
  {
   "cell_type": "markdown",
   "id": "15296035",
   "metadata": {},
   "source": [
    "### check total number of reviews posted by each user_id"
   ]
  },
  {
   "cell_type": "code",
   "execution_count": 31,
   "id": "44dbc21d",
   "metadata": {},
   "outputs": [
    {
     "name": "stdout",
     "output_type": "stream",
     "text": [
      "   user_id  total_num_reviews\n",
      "0     5044                  1\n",
      "1     5045                  1\n",
      "2     5046                  4\n",
      "3     5047                  1\n",
      "4     5048                  1\n",
      "number of reviewers: 260277\n"
     ]
    }
   ],
   "source": [
    "review_total=data.groupby([data.user_id])['review'].count()\n",
    "review_total=review_total.to_frame()\n",
    "review_total.reset_index(inplace=True)\n",
    "review_total=review_total.rename(columns={'user_id':'user_id', 'review':'total_num_reviews'})\n",
    "print(review_total.head())\n",
    "print('number of reviewers:', len(review_total))"
   ]
  },
  {
   "cell_type": "code",
   "execution_count": 32,
   "id": "f4cbd07b",
   "metadata": {},
   "outputs": [
    {
     "name": "stdout",
     "output_type": "stream",
     "text": [
      "   user_id                                             review  rating\n",
      "0     5044  Drinks were bad, the hot chocolate was watered...     1.0\n",
      "1     5045  This was the worst experience I've ever had a ...     1.0\n",
      "2     5046  This is located on the site of the old Spruce ...     3.0\n",
      "3     5047  I enjoyed coffee and breakfast twice at Toast ...     5.0\n",
      "4     5048  I love Toast! The food choices are fantastic -...     5.0\n"
     ]
    }
   ],
   "source": [
    "data2=review3[['user_id','review','rating']]\n",
    "print(data2.head())"
   ]
  },
  {
   "cell_type": "code",
   "execution_count": 33,
   "id": "24442a21",
   "metadata": {},
   "outputs": [
    {
     "name": "stdout",
     "output_type": "stream",
     "text": [
      "   user_id                                             review  rating\n",
      "3     5047  I enjoyed coffee and breakfast twice at Toast ...     5.0\n",
      "4     5048  I love Toast! The food choices are fantastic -...     5.0\n",
      "5     5049  The egg on an English muffin (their take on eg...     5.0\n",
      "6     5050  wonderful relaxed vibe and fantastic homemade ...     5.0\n",
      "9     5053  First brunch experience here in Philly (actual...     4.0\n"
     ]
    }
   ],
   "source": [
    "positive_reviews=data2[data2['rating']>=4]\n",
    "print(positive_reviews.head())"
   ]
  },
  {
   "cell_type": "code",
   "execution_count": 34,
   "id": "dac9bd7e",
   "metadata": {},
   "outputs": [
    {
     "name": "stdout",
     "output_type": "stream",
     "text": [
      "    user_id                                             review  rating\n",
      "0      5044  Drinks were bad, the hot chocolate was watered...     1.0\n",
      "1      5045  This was the worst experience I've ever had a ...     1.0\n",
      "7      5051  Extremely slow kitchen. I went with an hour to...     1.0\n",
      "8      5052  I really wanted to love toast. It's quaint and...     2.0\n",
      "13     5057  .. I wanted to love this place... I stopped by...     2.0\n"
     ]
    }
   ],
   "source": [
    "negative_reviews=data2[data2['rating']<=2]\n",
    "print(negative_reviews.head())"
   ]
  },
  {
   "cell_type": "markdown",
   "id": "108b3589",
   "metadata": {},
   "source": [
    "### a) check number of positive reviews posted by each user_id"
   ]
  },
  {
   "cell_type": "code",
   "execution_count": 35,
   "id": "60b1be9f",
   "metadata": {},
   "outputs": [
    {
     "name": "stdout",
     "output_type": "stream",
     "text": [
      "   user_id  num_positive_reviews\n",
      "0     5046                     1\n",
      "1     5047                     1\n",
      "2     5048                     1\n",
      "3     5049                     1\n",
      "4     5050                     1\n",
      "5     5052                     2\n",
      "6     5053                     8\n",
      "7     5054                     5\n",
      "8     5055                     1\n",
      "9     5056                     8\n"
     ]
    }
   ],
   "source": [
    "num_positive_reviews=positive_reviews.groupby([positive_reviews.user_id])['review'].count()\n",
    "num_positive_reviews=num_positive_reviews.to_frame()\n",
    "num_positive_reviews.reset_index(inplace=True)\n",
    "num_positive_reviews=num_positive_reviews.rename(columns={'user_id':'user_id', 'review':'num_positive_reviews'})\n",
    "print(num_positive_reviews.head(10))"
   ]
  },
  {
   "cell_type": "markdown",
   "id": "84fc3c54",
   "metadata": {},
   "source": [
    "### b) check number of negative reviews posted by each user_id"
   ]
  },
  {
   "cell_type": "code",
   "execution_count": 36,
   "id": "17c7c362",
   "metadata": {},
   "outputs": [
    {
     "name": "stdout",
     "output_type": "stream",
     "text": [
      "   user_id  num_negative_reviews\n",
      "0     5044                     1\n",
      "1     5045                     1\n",
      "2     5051                     1\n",
      "3     5052                     1\n",
      "4     5057                     1\n",
      "5     5058                     3\n",
      "6     5061                     5\n",
      "7     5063                     1\n",
      "8     5064                     1\n",
      "9     5065                     2\n"
     ]
    }
   ],
   "source": [
    "num_negative_reviews=negative_reviews.groupby([negative_reviews.user_id])['review'].count()\n",
    "num_negative_reviews=num_negative_reviews.to_frame()\n",
    "num_negative_reviews.reset_index(inplace=True)\n",
    "num_negative_reviews=num_negative_reviews.rename(columns={'user_id':'user_id', 'review':'num_negative_reviews'})\n",
    "print(num_negative_reviews.head(10))"
   ]
  },
  {
   "cell_type": "code",
   "execution_count": 40,
   "id": "222d036f",
   "metadata": {},
   "outputs": [
    {
     "name": "stdout",
     "output_type": "stream",
     "text": [
      "   user_id  total_num_reviews  num_positive_reviews\n",
      "5     5049                  1                   1.0\n",
      "6     5050                  1                   1.0\n",
      "7     5051                  1                   NaN\n",
      "8     5052                  3                   2.0\n",
      "9     5053                  8                   8.0\n"
     ]
    }
   ],
   "source": [
    "df0=review_total.merge(num_positive_reviews, on='user_id',how='left')\n",
    "print(df0.iloc[5:10,:])"
   ]
  },
  {
   "cell_type": "code",
   "execution_count": 42,
   "id": "5da78022",
   "metadata": {},
   "outputs": [
    {
     "name": "stdout",
     "output_type": "stream",
     "text": [
      "    user_id  total_num_reviews  num_positive_reviews  num_negative_reviews\n",
      "5      5049                  1                   1.0                   NaN\n",
      "6      5050                  1                   1.0                   NaN\n",
      "7      5051                  1                   NaN                   1.0\n",
      "8      5052                  3                   2.0                   1.0\n",
      "9      5053                  8                   8.0                   NaN\n",
      "10     5054                  6                   5.0                   NaN\n",
      "11     5055                  1                   1.0                   NaN\n",
      "12     5056                 10                   8.0                   NaN\n",
      "13     5057                  2                   1.0                   1.0\n",
      "14     5058                  7                   2.0                   3.0\n"
     ]
    }
   ],
   "source": [
    "final_data=df0.merge(num_negative_reviews, on='user_id',how='left')\n",
    "print(final_data.iloc[5:15,:])"
   ]
  },
  {
   "cell_type": "markdown",
   "id": "ae80ad7c",
   "metadata": {},
   "source": [
    "### replace NaN to 0"
   ]
  },
  {
   "cell_type": "code",
   "execution_count": 43,
   "id": "bbcb1e8b",
   "metadata": {},
   "outputs": [
    {
     "name": "stdout",
     "output_type": "stream",
     "text": [
      "    user_id  total_num_reviews  num_positive_reviews  num_negative_reviews\n",
      "5      5049                  1                   1.0                   0.0\n",
      "6      5050                  1                   1.0                   0.0\n",
      "7      5051                  1                   0.0                   1.0\n",
      "8      5052                  3                   2.0                   1.0\n",
      "9      5053                  8                   8.0                   0.0\n",
      "10     5054                  6                   5.0                   0.0\n",
      "11     5055                  1                   1.0                   0.0\n",
      "12     5056                 10                   8.0                   0.0\n",
      "13     5057                  2                   1.0                   1.0\n",
      "14     5058                  7                   2.0                   3.0\n"
     ]
    }
   ],
   "source": [
    "final_data['num_positive_reviews'] = final_data['num_positive_reviews'].fillna(0)\n",
    "final_data['num_negative_reviews'] = final_data['num_negative_reviews'].fillna(0)\n",
    "print(final_data.iloc[5:15,:])"
   ]
  },
  {
   "cell_type": "code",
   "execution_count": 46,
   "id": "bff7047a",
   "metadata": {},
   "outputs": [
    {
     "name": "stdout",
     "output_type": "stream",
     "text": [
      "    user_id  total_num_reviews  num_positive_reviews  num_negative_reviews  \\\n",
      "5      5049                  1                   1.0                   0.0   \n",
      "6      5050                  1                   1.0                   0.0   \n",
      "7      5051                  1                   0.0                   1.0   \n",
      "8      5052                  3                   2.0                   1.0   \n",
      "9      5053                  8                   8.0                   0.0   \n",
      "10     5054                  6                   5.0                   0.0   \n",
      "11     5055                  1                   1.0                   0.0   \n",
      "12     5056                 10                   8.0                   0.0   \n",
      "13     5057                  2                   1.0                   1.0   \n",
      "14     5058                  7                   2.0                   3.0   \n",
      "\n",
      "    ratio_positive_reviews  ratio_negative_reviews  \n",
      "5                 1.000000                0.000000  \n",
      "6                 1.000000                0.000000  \n",
      "7                 0.000000                1.000000  \n",
      "8                 0.666667                0.333333  \n",
      "9                 1.000000                0.000000  \n",
      "10                0.833333                0.000000  \n",
      "11                1.000000                0.000000  \n",
      "12                0.800000                0.000000  \n",
      "13                0.500000                0.500000  \n",
      "14                0.285714                0.428571  \n"
     ]
    }
   ],
   "source": [
    "final_data['ratio_positive_reviews']=final_data['num_positive_reviews']/final_data['total_num_reviews']\n",
    "final_data['ratio_negative_reviews']=final_data['num_negative_reviews']/final_data['total_num_reviews']\n",
    "print(final_data.iloc[5:15,:])"
   ]
  },
  {
   "cell_type": "markdown",
   "id": "abbfd3a8",
   "metadata": {},
   "source": [
    "### merge the data to original"
   ]
  },
  {
   "cell_type": "code",
   "execution_count": 51,
   "id": "05f6bfb6",
   "metadata": {},
   "outputs": [
    {
     "name": "stdout",
     "output_type": "stream",
     "text": [
      "        user_id  prod_id        date  rating  label\n",
      "0          5044        0  2014-11-16     1.0     -1\n",
      "1          5045        0  2014-09-08     1.0     -1\n",
      "2          5046        0  2013-10-06     3.0     -1\n",
      "3          5047        0  2014-11-30     5.0     -1\n",
      "4          5048        0  2014-08-28     5.0     -1\n",
      "...         ...      ...         ...     ...    ...\n",
      "608593   119664     5039  2013-01-20     4.0      1\n",
      "608594    56277     5039  2012-11-12     2.0      1\n",
      "608595   265320     5039  2012-08-22     1.0      1\n",
      "608596   161722     5039  2011-05-11     4.0      1\n",
      "608597    78454     5039  2010-07-17     4.0      1\n",
      "\n",
      "[608598 rows x 5 columns]\n"
     ]
    }
   ],
   "source": [
    "original=review3[['user_id','prod_id','date','rating','label']].copy()\n",
    "print(original)"
   ]
  },
  {
   "cell_type": "code",
   "execution_count": 52,
   "id": "2b910367",
   "metadata": {},
   "outputs": [
    {
     "name": "stdout",
     "output_type": "stream",
     "text": [
      "   user_id  prod_id        date  rating  label  total_num_reviews  \\\n",
      "0     5044        0  2014-11-16     1.0     -1                  1   \n",
      "1     5045        0  2014-09-08     1.0     -1                  1   \n",
      "2     5046        0  2013-10-06     3.0     -1                  4   \n",
      "3     5047        0  2014-11-30     5.0     -1                  1   \n",
      "4     5048        0  2014-08-28     5.0     -1                  1   \n",
      "\n",
      "   num_positive_reviews  num_negative_reviews  ratio_positive_reviews  \\\n",
      "0                   0.0                   1.0                    0.00   \n",
      "1                   0.0                   1.0                    0.00   \n",
      "2                   1.0                   0.0                    0.25   \n",
      "3                   1.0                   0.0                    1.00   \n",
      "4                   1.0                   0.0                    1.00   \n",
      "\n",
      "   ratio_negative_reviews  \n",
      "0                     1.0  \n",
      "1                     1.0  \n",
      "2                     0.0  \n",
      "3                     0.0  \n",
      "4                     0.0  \n"
     ]
    }
   ],
   "source": [
    "merged_data=original.merge(final_data, on='user_id',how='left')\n",
    "print(merged_data.head())"
   ]
  },
  {
   "cell_type": "code",
   "execution_count": 55,
   "id": "6277a8ca",
   "metadata": {},
   "outputs": [
    {
     "name": "stdout",
     "output_type": "stream",
     "text": [
      "608598\n",
      "False\n",
      "False\n",
      "False\n"
     ]
    }
   ],
   "source": [
    "print(len(merged_data))\n",
    "print(merged_data['total_num_reviews'].isnull().values.any())\n",
    "print(merged_data['ratio_positive_reviews'].isnull().values.any())\n",
    "print(merged_data['ratio_negative_reviews'].isnull().values.any())"
   ]
  },
  {
   "cell_type": "code",
   "execution_count": 57,
   "id": "751d2be5",
   "metadata": {},
   "outputs": [],
   "source": [
    "from numpy import savetxt\n",
    "savetxt(\"feature_ratio_positive_negative_reviews.txt\",merged_data,fmt=\"%s\",delimiter=\"\\t\",encoding=\"utf-8\")"
   ]
  },
  {
   "cell_type": "code",
   "execution_count": null,
   "id": "5da5fdbe",
   "metadata": {},
   "outputs": [],
   "source": []
  }
 ],
 "metadata": {
  "kernelspec": {
   "display_name": "Python 3 (ipykernel)",
   "language": "python",
   "name": "python3"
  },
  "language_info": {
   "codemirror_mode": {
    "name": "ipython",
    "version": 3
   },
   "file_extension": ".py",
   "mimetype": "text/x-python",
   "name": "python",
   "nbconvert_exporter": "python",
   "pygments_lexer": "ipython3",
   "version": "3.9.12"
  }
 },
 "nbformat": 4,
 "nbformat_minor": 5
}
