{
 "cells": [
  {
   "cell_type": "markdown",
   "id": "328dbeae",
   "metadata": {},
   "source": [
    "# Downsampling testing"
   ]
  },
  {
   "cell_type": "code",
   "execution_count": 1,
   "id": "a0d53147",
   "metadata": {},
   "outputs": [],
   "source": [
    "import pandas as pd\n",
    "import numpy as np"
   ]
  },
  {
   "cell_type": "markdown",
   "id": "a0ce8e99",
   "metadata": {},
   "source": [
    "### 1) features without TF-IDF"
   ]
  },
  {
   "cell_type": "code",
   "execution_count": 2,
   "id": "bbf6282d",
   "metadata": {},
   "outputs": [],
   "source": [
    "import pandas as pd\n",
    "import numpy as np\n",
    "file_name=\"D:/Group Project/yelp_zip_processed_features.csv\"\n",
    "df=pd.read_csv(file_name,sep=\"\\t\")"
   ]
  },
  {
   "cell_type": "code",
   "execution_count": 3,
   "id": "1514bc24",
   "metadata": {},
   "outputs": [
    {
     "name": "stdout",
     "output_type": "stream",
     "text": [
      "   rating  num_word  num_noun  num_verb  num_adj  num_adv  \\\n",
      "0     1.0        35         9         2        5        2   \n",
      "1     1.0       241        54        31       16       15   \n",
      "2     3.0        49        11         3        9        2   \n",
      "3     5.0       216        56        33       19       14   \n",
      "4     5.0       146        31        23       15        9   \n",
      "\n",
      "   num_personal_pronoun  avg_word_len  lexical_diversity  sentiment  ...  \\\n",
      "0                     1      5.000000           0.933333  -0.200000  ...   \n",
      "1                     7      5.561905           0.876190  -0.047619  ...   \n",
      "2                     1      5.130435           0.913043   0.130435  ...   \n",
      "3                     5      5.941176           0.756303   0.168067  ...   \n",
      "4                     8      5.507246           0.840580   0.159420  ...   \n",
      "\n",
      "   total_user_reviews  user_content_similarity  positive_reviews  \\\n",
      "0                   1             0.000000e+00               0.0   \n",
      "1                   1             0.000000e+00               0.0   \n",
      "2                   4             4.074681e-02               1.0   \n",
      "3                   1             4.440892e-16               1.0   \n",
      "4                   1             0.000000e+00               1.0   \n",
      "\n",
      "   negative_reviews  positive_review_ratio  negative_review_ratio  \\\n",
      "0               1.0                   0.00                    1.0   \n",
      "1               1.0                   0.00                    1.0   \n",
      "2               0.0                   0.25                    0.0   \n",
      "3               0.0                   1.00                    0.0   \n",
      "4               0.0                   1.00                    0.0   \n",
      "\n",
      "   avg_business_sentiment  avg_business_rating  total_business_reviews  label  \n",
      "0                0.141963             3.613636                      88     -1  \n",
      "1                0.141963             3.613636                      88     -1  \n",
      "2                0.141963             3.613636                      88     -1  \n",
      "3                0.141963             3.613636                      88     -1  \n",
      "4                0.141963             3.613636                      88     -1  \n",
      "\n",
      "[5 rows x 28 columns]\n"
     ]
    }
   ],
   "source": [
    "data=df[['rating','num_word', 'num_noun', 'num_verb',\n",
    "       'num_adj', 'num_adv', 'num_personal_pronoun', 'avg_word_len',\n",
    "       'lexical_diversity', 'sentiment', 'typo_ratio', 'emotiveness_ratio',\n",
    "       'num_positive_words', 'num_negative_words', 'num_clauses',\n",
    "       'previous_user_reviews', 'avg_user_sentiment', 'avg_user_rating',\n",
    "       'total_user_reviews', 'user_content_similarity', 'positive_reviews',\n",
    "       'negative_reviews', 'positive_review_ratio', 'negative_review_ratio',\n",
    "       'avg_business_sentiment', 'avg_business_rating',\n",
    "       'total_business_reviews', 'label']]\n",
    "print(data.head())"
   ]
  },
  {
   "cell_type": "code",
   "execution_count": 7,
   "id": "12e55087",
   "metadata": {},
   "outputs": [
    {
     "name": "stdout",
     "output_type": "stream",
     "text": [
      "   rating  num_word  num_noun  num_verb  num_adj  num_adv  \\\n",
      "0     1.0        35         9         2        5        2   \n",
      "1     1.0       241        54        31       16       15   \n",
      "2     3.0        49        11         3        9        2   \n",
      "3     5.0       216        56        33       19       14   \n",
      "4     5.0       146        31        23       15        9   \n",
      "\n",
      "   num_personal_pronoun  avg_word_len  lexical_diversity  sentiment  ...  \\\n",
      "0                     1      5.000000           0.933333  -0.200000  ...   \n",
      "1                     7      5.561905           0.876190  -0.047619  ...   \n",
      "2                     1      5.130435           0.913043   0.130435  ...   \n",
      "3                     5      5.941176           0.756303   0.168067  ...   \n",
      "4                     8      5.507246           0.840580   0.159420  ...   \n",
      "\n",
      "   total_user_reviews  user_content_similarity  positive_reviews  \\\n",
      "0                   1             0.000000e+00               0.0   \n",
      "1                   1             0.000000e+00               0.0   \n",
      "2                   4             4.074681e-02               1.0   \n",
      "3                   1             4.440892e-16               1.0   \n",
      "4                   1             0.000000e+00               1.0   \n",
      "\n",
      "   negative_reviews  positive_review_ratio  negative_review_ratio  \\\n",
      "0               1.0                   0.00                    1.0   \n",
      "1               1.0                   0.00                    1.0   \n",
      "2               0.0                   0.25                    0.0   \n",
      "3               0.0                   1.00                    0.0   \n",
      "4               0.0                   1.00                    0.0   \n",
      "\n",
      "   avg_business_sentiment  avg_business_rating  total_business_reviews  label  \n",
      "0                0.141963             3.613636                      88     -1  \n",
      "1                0.141963             3.613636                      88     -1  \n",
      "2                0.141963             3.613636                      88     -1  \n",
      "3                0.141963             3.613636                      88     -1  \n",
      "4                0.141963             3.613636                      88     -1  \n",
      "\n",
      "[5 rows x 28 columns]\n",
      "number of fake reviews: 80466\n"
     ]
    }
   ],
   "source": [
    "fake_reviews=data[data.label==-1]\n",
    "print(fake_reviews.head())\n",
    "print(\"number of fake reviews:\",len(fake_reviews))"
   ]
  },
  {
   "cell_type": "markdown",
   "id": "237cfb9a",
   "metadata": {},
   "source": [
    "#### I tried to get the real and fake reviews from original dataset separately, and then randomly select equal number of real reviews out as the number of fake reviews. Finally I combined equal number(80466) of fake reviews with real reviews to generate a balanced dataset (160932 samples)."
   ]
  },
  {
   "cell_type": "code",
   "execution_count": 8,
   "id": "0b536431",
   "metadata": {},
   "outputs": [
    {
     "name": "stdout",
     "output_type": "stream",
     "text": [
      "    rating  num_word  num_noun  num_verb  num_adj  num_adv  \\\n",
      "7      1.0        71        18        12        3        7   \n",
      "8      2.0       265        60        33       21       21   \n",
      "9      4.0       138        37        15       12       14   \n",
      "10     3.0       210        46        24       20       18   \n",
      "11     5.0       108        21        15        9        7   \n",
      "\n",
      "    num_personal_pronoun  avg_word_len  lexical_diversity  sentiment  ...  \\\n",
      "7                      2      4.864865           0.945946   0.027027  ...   \n",
      "8                     11      5.721739           0.730435   0.052174  ...   \n",
      "9                      3      5.684932           0.890411   0.027397  ...   \n",
      "10                     8      5.975000           0.787500   0.137500  ...   \n",
      "11                     7      5.288889           0.933333   0.288889  ...   \n",
      "\n",
      "    total_user_reviews  user_content_similarity  positive_reviews  \\\n",
      "7                    1                 0.000000               0.0   \n",
      "8                    3                 0.052090               2.0   \n",
      "9                    8                 0.025098               8.0   \n",
      "10                   6                 0.041426               5.0   \n",
      "11                   1                 0.000000               1.0   \n",
      "\n",
      "    negative_reviews  positive_review_ratio  negative_review_ratio  \\\n",
      "7                1.0               0.000000               1.000000   \n",
      "8                1.0               0.666667               0.333333   \n",
      "9                0.0               1.000000               0.000000   \n",
      "10               0.0               0.833333               0.000000   \n",
      "11               0.0               1.000000               0.000000   \n",
      "\n",
      "    avg_business_sentiment  avg_business_rating  total_business_reviews  label  \n",
      "7                 0.141963             3.613636                      88      1  \n",
      "8                 0.141963             3.613636                      88      1  \n",
      "9                 0.141963             3.613636                      88      1  \n",
      "10                0.141963             3.613636                      88      1  \n",
      "11                0.141963             3.613636                      88      1  \n",
      "\n",
      "[5 rows x 28 columns]\n",
      "number of real reviews: 528132\n",
      "<class 'pandas.core.frame.DataFrame'>\n"
     ]
    }
   ],
   "source": [
    "real_reviews=data[data.label==1]\n",
    "print(real_reviews.head())\n",
    "print(\"number of real reviews:\", len(real_reviews))\n",
    "print(type(real_reviews))"
   ]
  },
  {
   "cell_type": "code",
   "execution_count": 9,
   "id": "cc92ed23",
   "metadata": {},
   "outputs": [
    {
     "name": "stdout",
     "output_type": "stream",
     "text": [
      "number of selected real reviews:         rating  num_word  num_noun  num_verb  num_adj  num_adv  \\\n",
      "455259     4.0       135        37        17       15        9   \n",
      "507066     5.0        28         8         2        6        2   \n",
      "267476     4.0        17         6         1        5        0   \n",
      "112949     4.0       104        22        13        6        7   \n",
      "481423     5.0        24         6         1        1        0   \n",
      "...        ...       ...       ...       ...      ...      ...   \n",
      "14743      4.0        34         9         4        8        1   \n",
      "31035      3.0       110        18        13       10        9   \n",
      "479146     5.0        38         4         3        6        5   \n",
      "343574     4.0        33        10         2        9        0   \n",
      "256135     5.0        15         4         1        2        1   \n",
      "\n",
      "        num_personal_pronoun  avg_word_len  lexical_diversity  sentiment  ...  \\\n",
      "455259                     5      5.786667           0.840000   0.080000  ...   \n",
      "507066                     1      5.714286           0.857143   0.357143  ...   \n",
      "267476                     0      4.666667           1.000000   0.083333  ...   \n",
      "112949                     9      4.591837           0.857143   0.122449  ...   \n",
      "481423                     1      5.000000           1.000000  -0.142857  ...   \n",
      "...                      ...           ...                ...        ...  ...   \n",
      "14743                      0      5.550000           1.000000   0.250000  ...   \n",
      "31035                     11      5.755556           0.888889   0.133333  ...   \n",
      "479146                     3      6.066667           0.800000   0.400000  ...   \n",
      "343574                     0      5.681818           0.909091   0.136364  ...   \n",
      "256135                     0      4.375000           1.000000   0.125000  ...   \n",
      "\n",
      "        total_user_reviews  user_content_similarity  positive_reviews  \\\n",
      "455259                  85             4.656982e-02              69.0   \n",
      "507066                   1             2.220446e-16               1.0   \n",
      "267476                   1             2.220446e-16               1.0   \n",
      "112949                   2             1.875577e-02               2.0   \n",
      "481423                  10             1.114166e-02               6.0   \n",
      "...                    ...                      ...               ...   \n",
      "14743                   31             2.906128e-02              22.0   \n",
      "31035                  159             4.382896e-02             138.0   \n",
      "479146                  29             1.562094e-02              23.0   \n",
      "343574                  43             2.066740e-02              42.0   \n",
      "256135                   1             0.000000e+00               1.0   \n",
      "\n",
      "        negative_reviews  positive_review_ratio  negative_review_ratio  \\\n",
      "455259               1.0               0.811765               0.011765   \n",
      "507066               0.0               1.000000               0.000000   \n",
      "267476               0.0               1.000000               0.000000   \n",
      "112949               0.0               1.000000               0.000000   \n",
      "481423               0.0               0.600000               0.000000   \n",
      "...                  ...                    ...                    ...   \n",
      "14743                2.0               0.709677               0.064516   \n",
      "31035                3.0               0.867925               0.018868   \n",
      "479146               0.0               0.793103               0.000000   \n",
      "343574               0.0               0.976744               0.000000   \n",
      "256135               0.0               1.000000               0.000000   \n",
      "\n",
      "        avg_business_sentiment  avg_business_rating  total_business_reviews  \\\n",
      "455259                0.133449             3.754032                     248   \n",
      "507066                0.129609             3.285714                      28   \n",
      "267476                0.170841             4.260870                     414   \n",
      "112949                0.083364             3.891882                    2858   \n",
      "481423                0.127098             4.132075                     106   \n",
      "...                        ...                  ...                     ...   \n",
      "14743                 0.084189             3.274417                    2959   \n",
      "31035                 0.103933             4.007538                     398   \n",
      "479146                0.094812             3.833333                     126   \n",
      "343574                0.124567             3.861368                     541   \n",
      "256135                0.099286             4.299306                    6632   \n",
      "\n",
      "        label  \n",
      "455259      1  \n",
      "507066      1  \n",
      "267476      1  \n",
      "112949      1  \n",
      "481423      1  \n",
      "...       ...  \n",
      "14743       1  \n",
      "31035       1  \n",
      "479146      1  \n",
      "343574      1  \n",
      "256135      1  \n",
      "\n",
      "[80466 rows x 28 columns]\n"
     ]
    }
   ],
   "source": [
    "import random\n",
    "selected_real_reviews=real_reviews.sample(n=80466, random_state=1)\n",
    "print(\"number of selected real reviews:\", selected_real_reviews)"
   ]
  },
  {
   "cell_type": "code",
   "execution_count": 85,
   "id": "236cef89",
   "metadata": {},
   "outputs": [
    {
     "name": "stdout",
     "output_type": "stream",
     "text": [
      "   rating  num_word  num_noun  num_verb  num_adj  num_adv  \\\n",
      "0     1.0        35         9         2        5        2   \n",
      "1     1.0       241        54        31       16       15   \n",
      "2     3.0        49        11         3        9        2   \n",
      "3     5.0       216        56        33       19       14   \n",
      "4     5.0       146        31        23       15        9   \n",
      "\n",
      "   num_personal_pronoun  avg_word_len  lexical_diversity  sentiment  ...  \\\n",
      "0                     1      5.000000           0.933333  -0.200000  ...   \n",
      "1                     7      5.561905           0.876190  -0.047619  ...   \n",
      "2                     1      5.130435           0.913043   0.130435  ...   \n",
      "3                     5      5.941176           0.756303   0.168067  ...   \n",
      "4                     8      5.507246           0.840580   0.159420  ...   \n",
      "\n",
      "   total_user_reviews  user_content_similarity  positive_reviews  \\\n",
      "0                   1             0.000000e+00               0.0   \n",
      "1                   1             0.000000e+00               0.0   \n",
      "2                   4             4.074681e-02               1.0   \n",
      "3                   1             4.440892e-16               1.0   \n",
      "4                   1             0.000000e+00               1.0   \n",
      "\n",
      "   negative_reviews  positive_review_ratio  negative_review_ratio  \\\n",
      "0               1.0                   0.00                    1.0   \n",
      "1               1.0                   0.00                    1.0   \n",
      "2               0.0                   0.25                    0.0   \n",
      "3               0.0                   1.00                    0.0   \n",
      "4               0.0                   1.00                    0.0   \n",
      "\n",
      "   avg_business_sentiment  avg_business_rating  total_business_reviews  label  \n",
      "0                0.141963             3.613636                      88     -1  \n",
      "1                0.141963             3.613636                      88     -1  \n",
      "2                0.141963             3.613636                      88     -1  \n",
      "3                0.141963             3.613636                      88     -1  \n",
      "4                0.141963             3.613636                      88     -1  \n",
      "\n",
      "[5 rows x 28 columns]\n",
      "160932\n"
     ]
    }
   ],
   "source": [
    "data_join=pd.concat([fake_reviews, selected_real_reviews])\n",
    "print(data_join.head())\n",
    "print(len(data_join))"
   ]
  },
  {
   "cell_type": "code",
   "execution_count": 11,
   "id": "6187042f",
   "metadata": {},
   "outputs": [],
   "source": [
    "import sklearn.metrics as metrics\n",
    "from sklearn.metrics import confusion_matrix, accuracy_score, precision_score, f1_score, recall_score\n",
    "from sklearn.svm import SVC, LinearSVC\n",
    "from sklearn.feature_extraction.text import TfidfVectorizer\n",
    "from sklearn.preprocessing import StandardScaler\n",
    "from sklearn.model_selection import train_test_split"
   ]
  },
  {
   "cell_type": "code",
   "execution_count": 9,
   "id": "52bbc19d",
   "metadata": {},
   "outputs": [
    {
     "name": "stdout",
     "output_type": "stream",
     "text": [
      "Requirement already satisfied: imblearn in f:\\anaconda\\lib\\site-packages (0.0)\n",
      "Requirement already satisfied: imbalanced-learn in f:\\anaconda\\lib\\site-packages (from imblearn) (0.10.1)\n",
      "Requirement already satisfied: joblib>=1.1.1 in f:\\anaconda\\lib\\site-packages (from imbalanced-learn->imblearn) (1.2.0)\n",
      "Requirement already satisfied: scipy>=1.3.2 in f:\\anaconda\\lib\\site-packages (from imbalanced-learn->imblearn) (1.7.3)\n",
      "Requirement already satisfied: scikit-learn>=1.0.2 in f:\\anaconda\\lib\\site-packages (from imbalanced-learn->imblearn) (1.0.2)\n",
      "Requirement already satisfied: numpy>=1.17.3 in f:\\anaconda\\lib\\site-packages (from imbalanced-learn->imblearn) (1.21.5)\n",
      "Requirement already satisfied: threadpoolctl>=2.0.0 in f:\\anaconda\\lib\\site-packages (from imbalanced-learn->imblearn) (2.2.0)\n"
     ]
    }
   ],
   "source": [
    "!pip install imblearn"
   ]
  },
  {
   "cell_type": "code",
   "execution_count": 24,
   "id": "e62e8a52",
   "metadata": {},
   "outputs": [],
   "source": [
    "import imblearn\n",
    "from imblearn.over_sampling import SMOTE\n",
    "from imblearn.pipeline import Pipeline"
   ]
  },
  {
   "cell_type": "code",
   "execution_count": 86,
   "id": "41652d8e",
   "metadata": {},
   "outputs": [
    {
     "name": "stdout",
     "output_type": "stream",
     "text": [
      "        rating  num_word  num_noun  num_verb  num_adj  num_adv  \\\n",
      "0          1.0        35         9         2        5        2   \n",
      "1          1.0       241        54        31       16       15   \n",
      "2          3.0        49        11         3        9        2   \n",
      "3          5.0       216        56        33       19       14   \n",
      "4          5.0       146        31        23       15        9   \n",
      "...        ...       ...       ...       ...      ...      ...   \n",
      "14743      4.0        34         9         4        8        1   \n",
      "31035      3.0       110        18        13       10        9   \n",
      "479146     5.0        38         4         3        6        5   \n",
      "343574     4.0        33        10         2        9        0   \n",
      "256135     5.0        15         4         1        2        1   \n",
      "\n",
      "        num_personal_pronoun  avg_word_len  lexical_diversity  sentiment  ...  \\\n",
      "0                          1      5.000000           0.933333  -0.200000  ...   \n",
      "1                          7      5.561905           0.876190  -0.047619  ...   \n",
      "2                          1      5.130435           0.913043   0.130435  ...   \n",
      "3                          5      5.941176           0.756303   0.168067  ...   \n",
      "4                          8      5.507246           0.840580   0.159420  ...   \n",
      "...                      ...           ...                ...        ...  ...   \n",
      "14743                      0      5.550000           1.000000   0.250000  ...   \n",
      "31035                     11      5.755556           0.888889   0.133333  ...   \n",
      "479146                     3      6.066667           0.800000   0.400000  ...   \n",
      "343574                     0      5.681818           0.909091   0.136364  ...   \n",
      "256135                     0      4.375000           1.000000   0.125000  ...   \n",
      "\n",
      "        avg_user_rating  total_user_reviews  user_content_similarity  \\\n",
      "0              1.000000                   1             0.000000e+00   \n",
      "1              1.000000                   1             0.000000e+00   \n",
      "2              3.250000                   4             4.074681e-02   \n",
      "3              5.000000                   1             4.440892e-16   \n",
      "4              5.000000                   1             0.000000e+00   \n",
      "...                 ...                 ...                      ...   \n",
      "14743          3.838710                  31             2.906128e-02   \n",
      "31035          4.207547                 159             4.382896e-02   \n",
      "479146         4.103448                  29             1.562094e-02   \n",
      "343574         4.395349                  43             2.066740e-02   \n",
      "256135         5.000000                   1             0.000000e+00   \n",
      "\n",
      "        positive_reviews  negative_reviews  positive_review_ratio  \\\n",
      "0                    0.0               1.0               0.000000   \n",
      "1                    0.0               1.0               0.000000   \n",
      "2                    1.0               0.0               0.250000   \n",
      "3                    1.0               0.0               1.000000   \n",
      "4                    1.0               0.0               1.000000   \n",
      "...                  ...               ...                    ...   \n",
      "14743               22.0               2.0               0.709677   \n",
      "31035              138.0               3.0               0.867925   \n",
      "479146              23.0               0.0               0.793103   \n",
      "343574              42.0               0.0               0.976744   \n",
      "256135               1.0               0.0               1.000000   \n",
      "\n",
      "        negative_review_ratio  avg_business_sentiment  avg_business_rating  \\\n",
      "0                    1.000000                0.141963             3.613636   \n",
      "1                    1.000000                0.141963             3.613636   \n",
      "2                    0.000000                0.141963             3.613636   \n",
      "3                    0.000000                0.141963             3.613636   \n",
      "4                    0.000000                0.141963             3.613636   \n",
      "...                       ...                     ...                  ...   \n",
      "14743                0.064516                0.084189             3.274417   \n",
      "31035                0.018868                0.103933             4.007538   \n",
      "479146               0.000000                0.094812             3.833333   \n",
      "343574               0.000000                0.124567             3.861368   \n",
      "256135               0.000000                0.099286             4.299306   \n",
      "\n",
      "        total_business_reviews  \n",
      "0                           88  \n",
      "1                           88  \n",
      "2                           88  \n",
      "3                           88  \n",
      "4                           88  \n",
      "...                        ...  \n",
      "14743                     2959  \n",
      "31035                      398  \n",
      "479146                     126  \n",
      "343574                     541  \n",
      "256135                    6632  \n",
      "\n",
      "[160932 rows x 27 columns]\n"
     ]
    }
   ],
   "source": [
    "x_data=data_join[['rating','num_word', 'num_noun', 'num_verb',\n",
    "       'num_adj', 'num_adv', 'num_personal_pronoun', 'avg_word_len',\n",
    "       'lexical_diversity', 'sentiment', 'typo_ratio', 'emotiveness_ratio',\n",
    "       'num_positive_words', 'num_negative_words', 'num_clauses',\n",
    "       'previous_user_reviews', 'avg_user_sentiment', 'avg_user_rating',\n",
    "       'total_user_reviews', 'user_content_similarity', 'positive_reviews',\n",
    "       'negative_reviews', 'positive_review_ratio', 'negative_review_ratio',\n",
    "       'avg_business_sentiment', 'avg_business_rating',\n",
    "       'total_business_reviews']]\n",
    "print(x_data)\n",
    "y_data=data_join[['label']].values.ravel()"
   ]
  },
  {
   "cell_type": "code",
   "execution_count": 74,
   "id": "bb352287",
   "metadata": {},
   "outputs": [],
   "source": [
    "from sklearn.naive_bayes import GaussianNB\n",
    "from sklearn.naive_bayes import MultinomialNB\n",
    "from sklearn.neighbors import KNeighborsClassifier\n",
    "from sklearn.linear_model import LogisticRegression\n",
    "from sklearn.ensemble import RandomForestClassifier"
   ]
  },
  {
   "cell_type": "code",
   "execution_count": 87,
   "id": "c4e99337",
   "metadata": {},
   "outputs": [
    {
     "name": "stdout",
     "output_type": "stream",
     "text": [
      "26\n"
     ]
    }
   ],
   "source": [
    "selected_features=['num_word', 'num_noun', 'num_verb',\n",
    "       'num_adj', 'num_adv', 'num_personal_pronoun', 'avg_word_len',\n",
    "       'lexical_diversity', 'sentiment', 'typo_ratio', 'emotiveness_ratio',\n",
    "       'num_positive_words', 'num_negative_words', 'num_clauses',\n",
    "       'previous_user_reviews', 'avg_user_sentiment', 'avg_user_rating',\n",
    "       'total_user_reviews', 'user_content_similarity', 'positive_reviews',\n",
    "       'negative_reviews', 'positive_review_ratio', 'negative_review_ratio',\n",
    "       'avg_business_sentiment', 'avg_business_rating',\n",
    "       'total_business_reviews']\n",
    "print(len(selected_features))"
   ]
  },
  {
   "cell_type": "code",
   "execution_count": 58,
   "id": "c69d00b8",
   "metadata": {},
   "outputs": [],
   "source": [
    "#x_train, x_test, y_train, y_test=train_test_split(x_data,y_data,test_size=0.3,shuffle=True, random_state=2)"
   ]
  },
  {
   "cell_type": "code",
   "execution_count": 59,
   "id": "3a598ef8",
   "metadata": {},
   "outputs": [],
   "source": [
    "#scaler=StandardScaler().fit(x_train)\n",
    "#scaled_x_train=scaler.transform(x_train)\n",
    "#scaled_x_test=scaler.transform(x_test)"
   ]
  },
  {
   "cell_type": "code",
   "execution_count": 88,
   "id": "0a701190",
   "metadata": {},
   "outputs": [
    {
     "name": "stdout",
     "output_type": "stream",
     "text": [
      "CPU times: total: 34.7 s\n",
      "Wall time: 34.8 s\n"
     ]
    },
    {
     "name": "stderr",
     "output_type": "stream",
     "text": [
      "F:\\Anaconda\\lib\\site-packages\\sklearn\\svm\\_base.py:1206: ConvergenceWarning: Liblinear failed to converge, increase the number of iterations.\n",
      "  warnings.warn(\n"
     ]
    },
    {
     "data": {
      "text/plain": [
       "Pipeline(steps=[('scaler', StandardScaler()), ('svc', LinearSVC(C=1))])"
      ]
     },
     "execution_count": 88,
     "metadata": {},
     "output_type": "execute_result"
    }
   ],
   "source": [
    "%%time\n",
    "# Baseline model without any direct representation of words or word embeddings\n",
    "\n",
    "# Using a linear kernel for now as I have seen pretty good results for linear SVM with text classification\n",
    "# Using LinearSVC for better performance on large data sets\n",
    "baseline_svm = LinearSVC(C=1)\n",
    "\n",
    "# Best practice scale data when using geometric based models like SVM where magnitude is important\n",
    "scaler = StandardScaler()\n",
    "X_train, X_test, y_train, y_test = train_test_split(x_data,\n",
    "                                                    y_data,\n",
    "                                                    test_size=.3,\n",
    "                                                    random_state=24)\n",
    "\n",
    "# Using imblearn pipeline to manage the scaling and resampling logic in a simple way\n",
    "svm_pipe = Pipeline([('scaler', scaler),\n",
    "                     ('svc', baseline_svm)])\n",
    "\n",
    "svm_pipe.fit(X_train, y_train)"
   ]
  },
  {
   "cell_type": "code",
   "execution_count": 91,
   "id": "8202c975",
   "metadata": {},
   "outputs": [],
   "source": [
    "preds = svm_pipe.predict(X_test)"
   ]
  },
  {
   "cell_type": "code",
   "execution_count": 92,
   "id": "1a94baec",
   "metadata": {},
   "outputs": [
    {
     "name": "stdout",
     "output_type": "stream",
     "text": [
      "              precision    recall  f1-score   support\n",
      "\n",
      "          -1       0.68      0.80      0.74     24197\n",
      "           1       0.76      0.62      0.68     24083\n",
      "\n",
      "    accuracy                           0.71     48280\n",
      "   macro avg       0.72      0.71      0.71     48280\n",
      "weighted avg       0.72      0.71      0.71     48280\n",
      "\n"
     ]
    }
   ],
   "source": [
    "print(metrics.classification_report(y_test, preds))"
   ]
  },
  {
   "cell_type": "code",
   "execution_count": 127,
   "id": "68bd1726",
   "metadata": {},
   "outputs": [
    {
     "name": "stdout",
     "output_type": "stream",
     "text": [
      "[[19415  4665]\n",
      " [ 9284 14916]]\n",
      "[0.80627076 0.61636364]\n"
     ]
    }
   ],
   "source": [
    "matrix1 = confusion_matrix(y_test, preds)\n",
    "print(matrix1)\n",
    "print(matrix1.diagonal()/matrix1.sum(axis=1))"
   ]
  },
  {
   "cell_type": "code",
   "execution_count": null,
   "id": "296f2631",
   "metadata": {},
   "outputs": [],
   "source": [
    "%%time\n",
    "from sklearn.model_selection import GridSearchCV\n",
    "param_grid = {'C': [0.0001,0.001, 0.01, 0.1,1, 10, 100], 'gamma': [1,0.1,0.01,0.001],'kernel': ['poly','rbf', 'sigmoid','linear']}\n",
    "#param_grid = {'C':np.arange(0.001,1,20)}\n",
    "search = GridSearchCV(SVC(),param_grid,cv=5,return_train_score=True)\n",
    "search.fit(x_train,y_train)"
   ]
  },
  {
   "cell_type": "markdown",
   "id": "93b5e71f",
   "metadata": {},
   "source": [
    "### Down-sampling using TF-IDF features"
   ]
  },
  {
   "cell_type": "code",
   "execution_count": 14,
   "id": "9ec6d1f8",
   "metadata": {},
   "outputs": [
    {
     "name": "stderr",
     "output_type": "stream",
     "text": [
      "<timed exec>:11: SettingWithCopyWarning: \n",
      "A value is trying to be set on a copy of a slice from a DataFrame\n",
      "\n",
      "See the caveats in the documentation: https://pandas.pydata.org/pandas-docs/stable/user_guide/indexing.html#returning-a-view-versus-a-copy\n"
     ]
    },
    {
     "name": "stdout",
     "output_type": "stream",
     "text": [
      "CPU times: total: 4min 11s\n",
      "Wall time: 4min 12s\n"
     ]
    }
   ],
   "source": [
    "%%time\n",
    "vectorizer = TfidfVectorizer()\n",
    "import string\n",
    "import nltk\n",
    "from nltk.tokenize import word_tokenize\n",
    "data2=df.copy()\n",
    "data2['word_list']=np.nan\n",
    "for i in range(len(data2)):\n",
    "    lemma=data2.lemma.iloc[i]\n",
    "    try:\n",
    "        l=(word_tokenize(lemma))\n",
    "        data2.word_list.iloc[i]=l\n",
    "    except:\n",
    "        data2.word_list.iloc[i]=[]"
   ]
  },
  {
   "cell_type": "code",
   "execution_count": 15,
   "id": "9ae92f27",
   "metadata": {},
   "outputs": [
    {
     "data": {
      "text/plain": [
       "TfidfVectorizer()"
      ]
     },
     "execution_count": 15,
     "metadata": {},
     "output_type": "execute_result"
    }
   ],
   "source": [
    "data2=data2.fillna('')\n",
    "vectorizer.fit(data2.lemma)"
   ]
  },
  {
   "cell_type": "code",
   "execution_count": 16,
   "id": "14f044e2",
   "metadata": {},
   "outputs": [],
   "source": [
    "label_col = 'label'"
   ]
  },
  {
   "cell_type": "code",
   "execution_count": 17,
   "id": "99425274",
   "metadata": {},
   "outputs": [
    {
     "name": "stdout",
     "output_type": "stream",
     "text": [
      "number of fake reviews: 80466\n"
     ]
    }
   ],
   "source": [
    "fake_reviews2=data2[data2.label==-1]\n",
    "#print(fake_reviews2.head())\n",
    "print(\"number of fake reviews:\",len(fake_reviews2))"
   ]
  },
  {
   "cell_type": "code",
   "execution_count": 18,
   "id": "7bba0be1",
   "metadata": {},
   "outputs": [
    {
     "name": "stdout",
     "output_type": "stream",
     "text": [
      "number of real reviews2: 528132\n",
      "<class 'pandas.core.frame.DataFrame'>\n"
     ]
    }
   ],
   "source": [
    "real_reviews2=data2[data2.label==1]\n",
    "#print(real_reviews2.head())\n",
    "print(\"number of real reviews2:\", len(real_reviews2))\n",
    "print(type(real_reviews2))"
   ]
  },
  {
   "cell_type": "code",
   "execution_count": 19,
   "id": "a24f70c8",
   "metadata": {},
   "outputs": [
    {
     "name": "stdout",
     "output_type": "stream",
     "text": [
      "number of selected real reviews: 80466\n"
     ]
    }
   ],
   "source": [
    "selected_real_reviews2=real_reviews2.sample(n=80466, random_state=1)\n",
    "print(\"number of selected real reviews:\", len(selected_real_reviews2))"
   ]
  },
  {
   "cell_type": "code",
   "execution_count": 20,
   "id": "dcac617f",
   "metadata": {},
   "outputs": [
    {
     "name": "stdout",
     "output_type": "stream",
     "text": [
      "160932\n"
     ]
    }
   ],
   "source": [
    "data_join2=pd.concat([fake_reviews2, selected_real_reviews2])\n",
    "#print(data_join.head())\n",
    "print(len(data_join2))"
   ]
  },
  {
   "cell_type": "code",
   "execution_count": 30,
   "id": "3efa53ef",
   "metadata": {},
   "outputs": [
    {
     "name": "stdout",
     "output_type": "stream",
     "text": [
      "                                                    lemma\n",
      "0       drink bad hot chocolate water latte burn taste...\n",
      "1       bad experience casual coffee light fare place ...\n",
      "2       locate site old spruce st video mild cofee goo...\n",
      "3       enjoy coffee breakfast twice toast recent visi...\n",
      "4       love toast food choice fantastic love serve br...\n",
      "...                                                   ...\n",
      "14743   worth try bread fresh meat dry green pepper go...\n",
      "31035   climb aboard phooooo train pho train pretty pa...\n",
      "479146  icecream amazing thing ve ve icecream deliciou...\n",
      "343574  share black taglierini creamy taglierini garli...\n",
      "256135         long nite great lamb rice white sauce yumm\n",
      "\n",
      "[160932 rows x 1 columns]\n"
     ]
    }
   ],
   "source": [
    "x_data2=data_join2[['lemma']]\n",
    "print(x_data2)\n",
    "y_data2=data_join2[['label']].values.ravel()"
   ]
  },
  {
   "cell_type": "code",
   "execution_count": 22,
   "id": "8e8f3ff9",
   "metadata": {},
   "outputs": [],
   "source": [
    "from sklearn.naive_bayes import GaussianNB\n",
    "from sklearn.naive_bayes import MultinomialNB\n",
    "from sklearn.neighbors import KNeighborsClassifier\n",
    "from sklearn.linear_model import LogisticRegression\n",
    "from sklearn.ensemble import RandomForestClassifier"
   ]
  },
  {
   "cell_type": "code",
   "execution_count": 82,
   "id": "de9e5fec",
   "metadata": {},
   "outputs": [
    {
     "name": "stdout",
     "output_type": "stream",
     "text": [
      "(112652, 151750)\n",
      "(48280, 151750)\n",
      "CPU times: total: 7.27 s\n",
      "Wall time: 8.16 s\n"
     ]
    }
   ],
   "source": [
    "%%time\n",
    "tfidf_svm = LinearSVC(C=1)\n",
    "\n",
    "X_train2, X_test2, y_train2, y_test2 = train_test_split(data_join2.lemma,\n",
    "                                                    data_join2[label_col].values,\n",
    "                                                    test_size=.3,\n",
    "                                                    random_state=24)\n",
    "\n",
    "# Using imblearn pipeline to manage the resampling logic in a simple way\n",
    "tfidf_svm_pipe = Pipeline([('svc', tfidf_svm)])\n",
    "\n",
    "tfidf_x_train = vectorizer.transform(X_train2)\n",
    "tfidf_x_test = vectorizer.transform(X_test2)\n",
    "\n",
    "print(tfidf_x_train.shape)\n",
    "print(tfidf_x_test.shape)"
   ]
  },
  {
   "cell_type": "code",
   "execution_count": 83,
   "id": "cd50a894",
   "metadata": {},
   "outputs": [
    {
     "name": "stdout",
     "output_type": "stream",
     "text": [
      "CPU times: total: 2.84 s\n",
      "Wall time: 2.89 s\n"
     ]
    },
    {
     "data": {
      "text/plain": [
       "Pipeline(steps=[('svc', LinearSVC(C=1))])"
      ]
     },
     "execution_count": 83,
     "metadata": {},
     "output_type": "execute_result"
    }
   ],
   "source": [
    "%%time\n",
    "tfidf_svm_pipe.fit(tfidf_x_train, y_train2)"
   ]
  },
  {
   "cell_type": "code",
   "execution_count": 84,
   "id": "4aabfe83",
   "metadata": {},
   "outputs": [
    {
     "name": "stdout",
     "output_type": "stream",
     "text": [
      "              precision    recall  f1-score   support\n",
      "\n",
      "          -1       0.66      0.66      0.66     24197\n",
      "           1       0.66      0.65      0.65     24083\n",
      "\n",
      "    accuracy                           0.66     48280\n",
      "   macro avg       0.66      0.66      0.66     48280\n",
      "weighted avg       0.66      0.66      0.66     48280\n",
      "\n"
     ]
    },
    {
     "data": {
      "text/plain": [
       "array([[16078,  8119],\n",
       "       [ 8467, 15616]], dtype=int64)"
      ]
     },
     "execution_count": 84,
     "metadata": {},
     "output_type": "execute_result"
    }
   ],
   "source": [
    "tfidf_preds = tfidf_svm_pipe.predict(tfidf_x_test)\n",
    "\n",
    "print(metrics.classification_report(y_test2, tfidf_preds))\n",
    "metrics.confusion_matrix(y_test2, tfidf_preds)"
   ]
  },
  {
   "cell_type": "code",
   "execution_count": 118,
   "id": "a67673ef",
   "metadata": {},
   "outputs": [
    {
     "name": "stdout",
     "output_type": "stream",
     "text": [
      "[[16078  8119]\n",
      " [ 8467 15616]]\n",
      "[0.66446254 0.6484242 ]\n"
     ]
    }
   ],
   "source": [
    "matrix2 = confusion_matrix(y_test2, tfidf_preds)\n",
    "print(matrix2)\n",
    "print(matrix2.diagonal()/matrix.sum(axis=1))"
   ]
  },
  {
   "cell_type": "markdown",
   "id": "18195654",
   "metadata": {},
   "source": [
    "### Down-sampling of TF-IDF with features"
   ]
  },
  {
   "cell_type": "code",
   "execution_count": 29,
   "id": "74f73b77",
   "metadata": {},
   "outputs": [],
   "source": [
    "filtered_features = ['rating','num_word', 'num_noun', 'num_verb',\n",
    "       'num_adj', 'num_adv', 'num_personal_pronoun', 'avg_word_len',\n",
    "       'lexical_diversity', 'sentiment', 'typo_ratio', 'emotiveness_ratio',\n",
    "       'num_positive_words', 'num_negative_words', 'num_clauses',\n",
    "       'previous_user_reviews', 'avg_user_sentiment', 'avg_user_rating',\n",
    "       'total_user_reviews', 'user_content_similarity', 'positive_reviews',\n",
    "       'negative_reviews', 'positive_review_ratio', 'negative_review_ratio',\n",
    "       'avg_business_sentiment', 'avg_business_rating',\n",
    "       'total_business_reviews']"
   ]
  },
  {
   "cell_type": "code",
   "execution_count": 31,
   "id": "177c99a9",
   "metadata": {},
   "outputs": [
    {
     "name": "stdout",
     "output_type": "stream",
     "text": [
      "(160932, 27)\n"
     ]
    }
   ],
   "source": [
    "print(data_join2[filtered_features].shape)"
   ]
  },
  {
   "cell_type": "code",
   "execution_count": 44,
   "id": "e90cf0ff",
   "metadata": {},
   "outputs": [],
   "source": [
    "from sklearn.naive_bayes import GaussianNB\n",
    "from sklearn.naive_bayes import MultinomialNB\n",
    "from sklearn.naive_bayes import ComplementNB\n",
    "from sklearn.naive_bayes import BernoulliNB\n",
    "from sklearn.naive_bayes import CategoricalNB\n",
    "from sklearn.neighbors import KNeighborsClassifier\n",
    "from sklearn.linear_model import LogisticRegression\n",
    "from sklearn.ensemble import RandomForestClassifier"
   ]
  },
  {
   "cell_type": "code",
   "execution_count": 74,
   "id": "3d098963",
   "metadata": {},
   "outputs": [
    {
     "name": "stdout",
     "output_type": "stream",
     "text": [
      "(112652, 28)\n",
      "(48280, 28)\n",
      "CPU times: total: 609 ms\n",
      "Wall time: 3.09 s\n"
     ]
    },
    {
     "data": {
      "text/plain": [
       "Pipeline(steps=[('preprocessing',\n",
       "                 ColumnTransformer(transformers=[('summary',\n",
       "                                                  Pipeline(steps=[('scaler',\n",
       "                                                                   StandardScaler())]),\n",
       "                                                  ['rating', 'num_word',\n",
       "                                                   'num_noun', 'num_verb',\n",
       "                                                   'num_adj', 'num_adv',\n",
       "                                                   'num_personal_pronoun',\n",
       "                                                   'avg_word_len',\n",
       "                                                   'lexical_diversity',\n",
       "                                                   'sentiment', 'typo_ratio',\n",
       "                                                   'emotiveness_ratio',\n",
       "                                                   'num_positive_words',\n",
       "                                                   'num_negative_words',\n",
       "                                                   'num_clauses',\n",
       "                                                   'previ...eviews',\n",
       "                                                   'avg_user_sentiment',\n",
       "                                                   'avg_user_rating',\n",
       "                                                   'total_user_reviews',\n",
       "                                                   'user_content_similarity',\n",
       "                                                   'positive_reviews',\n",
       "                                                   'negative_reviews',\n",
       "                                                   'positive_review_ratio',\n",
       "                                                   'negative_review_ratio',\n",
       "                                                   'avg_business_sentiment',\n",
       "                                                   'avg_business_rating',\n",
       "                                                   'total_business_reviews']),\n",
       "                                                 ('tfidf',\n",
       "                                                  Pipeline(steps=[('vectorizer',\n",
       "                                                                   TfidfVectorizer())]),\n",
       "                                                  'lemma')])),\n",
       "                ('svc', LinearSVC(C=1))])"
      ]
     },
     "execution_count": 74,
     "metadata": {},
     "output_type": "execute_result"
    }
   ],
   "source": [
    "%%time\n",
    "from sklearn.compose import ColumnTransformer\n",
    "\n",
    "tfidf_combined_svm = LinearSVC(C=1)\n",
    "X_train3, X_test3, y_train3, y_test3 = train_test_split(data_join2[filtered_features + ['lemma']],\n",
    "                                                    data_join2[label_col].values,\n",
    "                                                    test_size=.3,\n",
    "                                                    random_state=24)\n",
    "\n",
    "summary_pipeline = Pipeline([('scaler', StandardScaler())])\n",
    "tfidf_pipeline = Pipeline([('vectorizer', TfidfVectorizer(analyzer='word', ngram_range=(1,1)))])\n",
    "column_processor = ColumnTransformer([('summary', summary_pipeline, filtered_features),\n",
    "                                      ('tfidf', tfidf_pipeline, 'lemma')])\n",
    "\n",
    "\n",
    "tfidf_combined_svm_pipe = Pipeline([('preprocessing', column_processor),\n",
    "                                    ('svc', tfidf_combined_svm)])\n",
    "\n",
    "\n",
    "print(X_train3.shape)\n",
    "print(X_test3.shape)\n",
    "tfidf_combined_svm_pipe"
   ]
  },
  {
   "cell_type": "code",
   "execution_count": 75,
   "id": "d6c2e5e0",
   "metadata": {},
   "outputs": [
    {
     "name": "stdout",
     "output_type": "stream",
     "text": [
      "CPU times: total: 59.4 s\n",
      "Wall time: 59.8 s\n"
     ]
    },
    {
     "name": "stderr",
     "output_type": "stream",
     "text": [
      "F:\\Anaconda\\lib\\site-packages\\sklearn\\svm\\_base.py:1206: ConvergenceWarning: Liblinear failed to converge, increase the number of iterations.\n",
      "  warnings.warn(\n"
     ]
    },
    {
     "data": {
      "text/plain": [
       "Pipeline(steps=[('preprocessing',\n",
       "                 ColumnTransformer(transformers=[('summary',\n",
       "                                                  Pipeline(steps=[('scaler',\n",
       "                                                                   StandardScaler())]),\n",
       "                                                  ['rating', 'num_word',\n",
       "                                                   'num_noun', 'num_verb',\n",
       "                                                   'num_adj', 'num_adv',\n",
       "                                                   'num_personal_pronoun',\n",
       "                                                   'avg_word_len',\n",
       "                                                   'lexical_diversity',\n",
       "                                                   'sentiment', 'typo_ratio',\n",
       "                                                   'emotiveness_ratio',\n",
       "                                                   'num_positive_words',\n",
       "                                                   'num_negative_words',\n",
       "                                                   'num_clauses',\n",
       "                                                   'previ...eviews',\n",
       "                                                   'avg_user_sentiment',\n",
       "                                                   'avg_user_rating',\n",
       "                                                   'total_user_reviews',\n",
       "                                                   'user_content_similarity',\n",
       "                                                   'positive_reviews',\n",
       "                                                   'negative_reviews',\n",
       "                                                   'positive_review_ratio',\n",
       "                                                   'negative_review_ratio',\n",
       "                                                   'avg_business_sentiment',\n",
       "                                                   'avg_business_rating',\n",
       "                                                   'total_business_reviews']),\n",
       "                                                 ('tfidf',\n",
       "                                                  Pipeline(steps=[('vectorizer',\n",
       "                                                                   TfidfVectorizer())]),\n",
       "                                                  'lemma')])),\n",
       "                ('svc', LinearSVC(C=1))])"
      ]
     },
     "execution_count": 75,
     "metadata": {},
     "output_type": "execute_result"
    }
   ],
   "source": [
    "%%time\n",
    "tfidf_combined_svm_pipe.fit(X_train3, y_train3)"
   ]
  },
  {
   "cell_type": "code",
   "execution_count": 76,
   "id": "8ca3ffb0",
   "metadata": {},
   "outputs": [
    {
     "name": "stdout",
     "output_type": "stream",
     "text": [
      "              precision    recall  f1-score   support\n",
      "\n",
      "          -1       0.70      0.74      0.72     24197\n",
      "           1       0.72      0.68      0.70     24083\n",
      "\n",
      "    accuracy                           0.71     48280\n",
      "   macro avg       0.71      0.71      0.71     48280\n",
      "weighted avg       0.71      0.71      0.71     48280\n",
      "\n"
     ]
    }
   ],
   "source": [
    "tfidf_combined_preds = tfidf_combined_svm_pipe.predict(X_test3)\n",
    "\n",
    "print(metrics.classification_report(y_test3, tfidf_combined_preds))\n",
    "#metrics.confusion_matrix(y_test3, tfidf_combined_preds)"
   ]
  },
  {
   "cell_type": "code",
   "execution_count": 117,
   "id": "d34aa5a8",
   "metadata": {},
   "outputs": [
    {
     "name": "stdout",
     "output_type": "stream",
     "text": [
      "[[17862  6335]\n",
      " [ 7758 16325]]\n",
      "[0.73819068 0.67786405]\n"
     ]
    }
   ],
   "source": [
    "matrix3 = confusion_matrix(y_test3, tfidf_combined_preds)\n",
    "print(matrix3)\n",
    "print(matrix3.diagonal()/matrix.sum(axis=1))"
   ]
  },
  {
   "cell_type": "markdown",
   "id": "e5357636",
   "metadata": {},
   "source": [
    "### a) SVC() model, gamma='auto'"
   ]
  },
  {
   "cell_type": "markdown",
   "id": "cbfb6c26",
   "metadata": {},
   "source": [
    "### SVC parameters: kernel: {‘linear’, ‘poly’, ‘rbf’, ‘sigmoid’, ‘precomputed’} or callable, default=’rbf’\n",
    "### gamma{‘scale’, ‘auto’} or float, default=’scale’\n",
    "### class_weight: dict or ‘balanced’, default=None\n",
    "### decision_function_shape{‘ovo’, ‘ovr’}, default=’ovr’. The parameter is ignored for binary classification."
   ]
  },
  {
   "cell_type": "code",
   "execution_count": 19,
   "id": "923ee2f9",
   "metadata": {},
   "outputs": [
    {
     "name": "stdout",
     "output_type": "stream",
     "text": [
      "Wall time: 36min 30s\n"
     ]
    }
   ],
   "source": [
    "%%time\n",
    "svc=SVC(gamma='auto')\n",
    "svc.fit(scaled_x_train,y_train)\n",
    "y_predict_train=svc.predict(scaled_x_train)\n",
    "y_predict_test=svc.predict(scaled_x_test)"
   ]
  },
  {
   "cell_type": "code",
   "execution_count": 27,
   "id": "71877a70",
   "metadata": {},
   "outputs": [
    {
     "name": "stdout",
     "output_type": "stream",
     "text": [
      "0.6411071263714803\n"
     ]
    }
   ],
   "source": [
    "from sklearn.metrics import accuracy_score, precision_score, f1_score, recall_score, classification_report,confusion_matrix\n",
    "train_accuracy=accuracy_score(y_train,y_predict_train)\n",
    "print(train_accuracy)"
   ]
  },
  {
   "cell_type": "code",
   "execution_count": 28,
   "id": "bde62ea4",
   "metadata": {},
   "outputs": [
    {
     "name": "stdout",
     "output_type": "stream",
     "text": [
      "0.6367232808616404\n"
     ]
    }
   ],
   "source": [
    "test_accuracy=accuracy_score(y_test,y_predict_test)\n",
    "print(test_accuracy)"
   ]
  },
  {
   "cell_type": "code",
   "execution_count": 29,
   "id": "a4e4ddf6",
   "metadata": {},
   "outputs": [
    {
     "name": "stdout",
     "output_type": "stream",
     "text": [
      "accuracy score: 0.6367232808616404\n",
      "precision score: 0.6449745353240761\n",
      "F1 score: 0.6281983337926357\n",
      "recall score: 0.6122727272727273\n"
     ]
    }
   ],
   "source": [
    "print(\"accuracy score:\",accuracy_score(y_test,y_predict_test))\n",
    "print(\"precision score:\",precision_score(y_test,y_predict_test))\n",
    "print(\"F1 score:\",f1_score(y_test,y_predict_test))\n",
    "print(\"recall score:\",recall_score(y_test,y_predict_test))"
   ]
  },
  {
   "cell_type": "code",
   "execution_count": 31,
   "id": "66f34c6d",
   "metadata": {},
   "outputs": [
    {
     "name": "stdout",
     "output_type": "stream",
     "text": [
      "[[15924  8156]\n",
      " [ 9383 14817]]\n"
     ]
    }
   ],
   "source": [
    "CM=confusion_matrix(y_test,y_predict_test)\n",
    "print(CM)"
   ]
  },
  {
   "cell_type": "code",
   "execution_count": 33,
   "id": "0de0213f",
   "metadata": {},
   "outputs": [
    {
     "name": "stdout",
     "output_type": "stream",
     "text": [
      "              precision    recall  f1-score   support\n",
      "\n",
      "          -1       0.63      0.66      0.64     24080\n",
      "           1       0.64      0.61      0.63     24200\n",
      "\n",
      "    accuracy                           0.64     48280\n",
      "   macro avg       0.64      0.64      0.64     48280\n",
      "weighted avg       0.64      0.64      0.64     48280\n",
      "\n"
     ]
    }
   ],
   "source": [
    "print(metrics.classification_report(y_test, y_predict_test))"
   ]
  },
  {
   "cell_type": "markdown",
   "id": "39418568",
   "metadata": {},
   "source": [
    "### gamma='auto', kernel='linear', c=0.01"
   ]
  },
  {
   "cell_type": "code",
   "execution_count": 40,
   "id": "4cdf48f7",
   "metadata": {},
   "outputs": [
    {
     "name": "stdout",
     "output_type": "stream",
     "text": [
      "CPU times: total: 18min 4s\n",
      "Wall time: 18min 7s\n"
     ]
    }
   ],
   "source": [
    "%%time\n",
    "svc=SVC(gamma='auto',kernel='linear',C=0.01)\n",
    "svc.fit(scaled_x_train,y_train)\n",
    "y_predict_train=svc.predict(scaled_x_train)\n",
    "y_predict_test=svc.predict(scaled_x_test)"
   ]
  },
  {
   "cell_type": "code",
   "execution_count": 41,
   "id": "13f6269b",
   "metadata": {},
   "outputs": [
    {
     "name": "stdout",
     "output_type": "stream",
     "text": [
      "accuracy score: 0.5900787075393538\n",
      "precision score: 0.623452987623901\n",
      "F1 score: 0.5294243526642415\n",
      "recall score: 0.4600413223140496\n",
      "[[17356  6724]\n",
      " [13067 11133]]\n",
      "              precision    recall  f1-score   support\n",
      "\n",
      "          -1       0.57      0.72      0.64     24080\n",
      "           1       0.62      0.46      0.53     24200\n",
      "\n",
      "    accuracy                           0.59     48280\n",
      "   macro avg       0.60      0.59      0.58     48280\n",
      "weighted avg       0.60      0.59      0.58     48280\n",
      "\n"
     ]
    }
   ],
   "source": [
    "print(\"accuracy score:\",accuracy_score(y_test,y_predict_test))\n",
    "print(\"precision score:\",precision_score(y_test,y_predict_test))\n",
    "print(\"F1 score:\",f1_score(y_test,y_predict_test))\n",
    "print(\"recall score:\",recall_score(y_test,y_predict_test))\n",
    "CM=confusion_matrix(y_test,y_predict_test)\n",
    "print(CM)\n",
    "print(metrics.classification_report(y_test, y_predict_test))"
   ]
  },
  {
   "cell_type": "markdown",
   "id": "6a9be72c",
   "metadata": {},
   "source": [
    "### gamma='auto', kernel='rbf', c=0.01"
   ]
  },
  {
   "cell_type": "code",
   "execution_count": 42,
   "id": "ad7074cd",
   "metadata": {},
   "outputs": [
    {
     "name": "stdout",
     "output_type": "stream",
     "text": [
      "CPU times: total: 40min 14s\n",
      "Wall time: 40min 21s\n"
     ]
    }
   ],
   "source": [
    "%%time\n",
    "svc=SVC(gamma='auto',kernel='rbf',C=0.01)\n",
    "svc.fit(scaled_x_train,y_train)\n",
    "y_predict_train=svc.predict(scaled_x_train)\n",
    "y_predict_test=svc.predict(scaled_x_test)"
   ]
  },
  {
   "cell_type": "code",
   "execution_count": 43,
   "id": "30133979",
   "metadata": {},
   "outputs": [
    {
     "name": "stdout",
     "output_type": "stream",
     "text": [
      "accuracy score: 0.6321872410936206\n",
      "precision score: 0.6442712532473349\n",
      "F1 score: 0.6183209388299016\n",
      "recall score: 0.5943801652892562\n",
      "[[16138  7942]\n",
      " [ 9816 14384]]\n",
      "              precision    recall  f1-score   support\n",
      "\n",
      "          -1       0.62      0.67      0.65     24080\n",
      "           1       0.64      0.59      0.62     24200\n",
      "\n",
      "    accuracy                           0.63     48280\n",
      "   macro avg       0.63      0.63      0.63     48280\n",
      "weighted avg       0.63      0.63      0.63     48280\n",
      "\n"
     ]
    }
   ],
   "source": [
    "print(\"accuracy score:\",accuracy_score(y_test,y_predict_test))\n",
    "print(\"precision score:\",precision_score(y_test,y_predict_test))\n",
    "print(\"F1 score:\",f1_score(y_test,y_predict_test))\n",
    "print(\"recall score:\",recall_score(y_test,y_predict_test))\n",
    "CM=confusion_matrix(y_test,y_predict_test)\n",
    "print(CM)\n",
    "print(metrics.classification_report(y_test, y_predict_test))"
   ]
  },
  {
   "cell_type": "markdown",
   "id": "675fb3a6",
   "metadata": {},
   "source": [
    "### gamma='auto', kernel='poly', c=0.01"
   ]
  },
  {
   "cell_type": "code",
   "execution_count": 44,
   "id": "38123c0f",
   "metadata": {},
   "outputs": [
    {
     "name": "stdout",
     "output_type": "stream",
     "text": [
      "CPU times: total: 20min 48s\n",
      "Wall time: 20min 49s\n"
     ]
    }
   ],
   "source": [
    "%%time\n",
    "svc=SVC(gamma='auto',kernel='poly',C=0.01)\n",
    "svc.fit(scaled_x_train,y_train)\n",
    "y_predict_train=svc.predict(scaled_x_train)\n",
    "y_predict_test=svc.predict(scaled_x_test)"
   ]
  },
  {
   "cell_type": "code",
   "execution_count": 45,
   "id": "58adf3fc",
   "metadata": {},
   "outputs": [
    {
     "name": "stdout",
     "output_type": "stream",
     "text": [
      "accuracy score: 0.576222038111019\n",
      "precision score: 0.5461751197590005\n",
      "F1 score: 0.683761476398034\n",
      "recall score: 0.9140082644628099\n",
      "[[ 5701 18379]\n",
      " [ 2081 22119]]\n",
      "              precision    recall  f1-score   support\n",
      "\n",
      "          -1       0.73      0.24      0.36     24080\n",
      "           1       0.55      0.91      0.68     24200\n",
      "\n",
      "    accuracy                           0.58     48280\n",
      "   macro avg       0.64      0.58      0.52     48280\n",
      "weighted avg       0.64      0.58      0.52     48280\n",
      "\n"
     ]
    }
   ],
   "source": [
    "print(\"accuracy score:\",accuracy_score(y_test,y_predict_test))\n",
    "print(\"precision score:\",precision_score(y_test,y_predict_test))\n",
    "print(\"F1 score:\",f1_score(y_test,y_predict_test))\n",
    "print(\"recall score:\",recall_score(y_test,y_predict_test))\n",
    "CM=confusion_matrix(y_test,y_predict_test)\n",
    "print(CM)\n",
    "print(metrics.classification_report(y_test, y_predict_test))"
   ]
  },
  {
   "cell_type": "markdown",
   "id": "e4f24a24",
   "metadata": {},
   "source": [
    "### b) SVC() model, hyperparameter tuning"
   ]
  },
  {
   "cell_type": "code",
   "execution_count": null,
   "id": "b118fcab",
   "metadata": {},
   "outputs": [],
   "source": [
    "%%time\n",
    "from sklearn.model_selection import cross_val_score, GridSearchCV, cross_validate, train_test_split\n",
    "svm_parameters = {'kernel':('linear', 'rbf'), 'C':[0.01, 0.1, 1.0]}\n",
    "svm_cv=GridSearchCV(SVC(gamma='auto'),svm_parameters,n_jobs=-1, return_train_score=True)\n",
    "svm_cv.fit(scaled_x_train,y_train)\n",
    "best_score=svm_cv.best_score_\n",
    "print(best_score)"
   ]
  },
  {
   "cell_type": "code",
   "execution_count": null,
   "id": "3ec723eb",
   "metadata": {},
   "outputs": [],
   "source": [
    "svm_cv.fit(scaled_x_train,y_train)\n",
    "y_predict_train=svm_cv.predict(scaled_x_train)\n",
    "y_predict_test=svm_cv.predict(scaled_x_test)"
   ]
  },
  {
   "cell_type": "code",
   "execution_count": null,
   "id": "0d499b24",
   "metadata": {},
   "outputs": [],
   "source": [
    "print(\"accuracy score:\",accuracy_score(y_test,y_predict_test))\n",
    "print(\"precision score:\",precision_score(y_test,y_predict_test))\n",
    "print(\"F1 score:\",f1_score(y_test,y_predict_test))\n",
    "print(\"recall score:\",recall_score(y_test,y_predict_test))"
   ]
  },
  {
   "cell_type": "markdown",
   "id": "61a4da80",
   "metadata": {},
   "source": [
    "### c) LinearSCV()"
   ]
  },
  {
   "cell_type": "code",
   "execution_count": 68,
   "id": "bd546ffa",
   "metadata": {},
   "outputs": [
    {
     "name": "stderr",
     "output_type": "stream",
     "text": [
      "F:\\Anaconda\\lib\\site-packages\\sklearn\\svm\\_base.py:1206: ConvergenceWarning: Liblinear failed to converge, increase the number of iterations.\n",
      "  warnings.warn(\n"
     ]
    }
   ],
   "source": [
    "from sklearn.svm import LinearSVC\n",
    "linear_svc=LinearSVC()\n",
    "linear_svc.fit(scaled_x_train,y_train)\n",
    "y_predict_train=linear_svc.predict(scaled_x_train)\n",
    "y_predict_test=linear_svc.predict(scaled_x_test)"
   ]
  },
  {
   "cell_type": "code",
   "execution_count": 70,
   "id": "e8db6927",
   "metadata": {},
   "outputs": [
    {
     "name": "stdout",
     "output_type": "stream",
     "text": [
      "accuracy score: 0.5945111847555924\n",
      "precision score: 0.6080190663115099\n",
      "F1 score: 0.5706704094388035\n",
      "recall score: 0.5376446280991736\n",
      "AUC score: 0.5946528788336399\n"
     ]
    }
   ],
   "source": [
    "from sklearn.metrics import roc_auc_score\n",
    "print(\"accuracy score:\",accuracy_score(y_test,y_predict_test))\n",
    "print(\"precision score:\",precision_score(y_test,y_predict_test))\n",
    "print(\"F1 score:\",f1_score(y_test,y_predict_test))\n",
    "print(\"recall score:\",recall_score(y_test,y_predict_test))\n",
    "print(\"AUC score:\",roc_auc_score(y_test,y_predict_test))"
   ]
  },
  {
   "cell_type": "code",
   "execution_count": 34,
   "id": "60eeb8b4",
   "metadata": {},
   "outputs": [
    {
     "name": "stdout",
     "output_type": "stream",
     "text": [
      "[[15686  8394]\n",
      " [11181 13019]]\n"
     ]
    }
   ],
   "source": [
    "CM=confusion_matrix(y_test,y_predict_test)\n",
    "print(CM)"
   ]
  },
  {
   "cell_type": "code",
   "execution_count": 35,
   "id": "f7a1809a",
   "metadata": {},
   "outputs": [
    {
     "name": "stdout",
     "output_type": "stream",
     "text": [
      "              precision    recall  f1-score   support\n",
      "\n",
      "          -1       0.58      0.65      0.62     24080\n",
      "           1       0.61      0.54      0.57     24200\n",
      "\n",
      "    accuracy                           0.59     48280\n",
      "   macro avg       0.60      0.59      0.59     48280\n",
      "weighted avg       0.60      0.59      0.59     48280\n",
      "\n"
     ]
    }
   ],
   "source": [
    "print(metrics.classification_report(y_test, y_predict_test))"
   ]
  },
  {
   "cell_type": "code",
   "execution_count": 51,
   "id": "0f69e46c",
   "metadata": {},
   "outputs": [
    {
     "name": "stdout",
     "output_type": "stream",
     "text": [
      "   user_id  prod_id  rating  label  \\\n",
      "0     5044        0     1.0     -1   \n",
      "1     5045        0     1.0     -1   \n",
      "2     5046        0     3.0     -1   \n",
      "3     5047        0     5.0     -1   \n",
      "4     5048        0     5.0     -1   \n",
      "\n",
      "                                          list_words  num_of_words  \\\n",
      "0  ['drink', 'bad', 'hot', 'chocolate', 'water', ...            17   \n",
      "1  ['bad', 'experience', 'ever', 'casual', 'coffe...           115   \n",
      "2  ['locate', 'site', 'old', 'spruce', 'street', ...            24   \n",
      "3  ['enjoy', 'coffee', 'breakfast', 'twice', 'toa...           128   \n",
      "4  ['love', 'toast', 'food', 'choice', 'fantastic...            77   \n",
      "\n",
      "   num_of_verbs  avg_word_len  emotiveness  num_positive  num_negative  \\\n",
      "0             2      4.882353     0.416667             1             5   \n",
      "1            17      5.452174     0.379747             4            12   \n",
      "2             3      5.291667     0.600000             4             1   \n",
      "3            15      5.664062     0.465116            20             4   \n",
      "4            11      5.337662     0.520000            12             1   \n",
      "\n",
      "   sentiment  lexical_diversity  typo_ratio  \n",
      "0  -0.235294           0.941176    0.000000  \n",
      "1  -0.069565           0.869565    0.000000  \n",
      "2   0.125000           0.916667    0.040000  \n",
      "3   0.125000           0.750000    0.008547  \n",
      "4   0.142857           0.831169    0.000000  \n"
     ]
    }
   ],
   "source": [
    "fake_reviews_list_words=preprocessed_data[preprocessed_data.label==-1]\n",
    "print(fake_reviews_list_words.head())"
   ]
  },
  {
   "cell_type": "code",
   "execution_count": 56,
   "id": "ac21dbff",
   "metadata": {},
   "outputs": [
    {
     "name": "stdout",
     "output_type": "stream",
     "text": [
      "80466\n"
     ]
    }
   ],
   "source": [
    "real_reviews_list_words=preprocessed_data[preprocessed_data.label==1]\n",
    "real_reviews_list_words=real_reviews_list_words.sample(n=80466, random_state=1)\n",
    "print(len(real_reviews_list_words))\n",
    "#print(real_reviews_list_words.head())"
   ]
  },
  {
   "cell_type": "code",
   "execution_count": 57,
   "id": "f7464f39",
   "metadata": {},
   "outputs": [
    {
     "name": "stdout",
     "output_type": "stream",
     "text": [
      "   rating                                         list_words  num_of_words  \\\n",
      "0     1.0  ['drink', 'bad', 'hot', 'chocolate', 'water', ...            17   \n",
      "1     1.0  ['bad', 'experience', 'ever', 'casual', 'coffe...           115   \n",
      "2     3.0  ['locate', 'site', 'old', 'spruce', 'street', ...            24   \n",
      "3     5.0  ['enjoy', 'coffee', 'breakfast', 'twice', 'toa...           128   \n",
      "4     5.0  ['love', 'toast', 'food', 'choice', 'fantastic...            77   \n",
      "\n",
      "   num_of_verbs  avg_word_len  emotiveness  num_positive  num_negative  \\\n",
      "0             2      4.882353     0.416667             1             5   \n",
      "1            17      5.452174     0.379747             4            12   \n",
      "2             3      5.291667     0.600000             4             1   \n",
      "3            15      5.664062     0.465116            20             4   \n",
      "4            11      5.337662     0.520000            12             1   \n",
      "\n",
      "   sentiment  label  \n",
      "0  -0.235294     -1  \n",
      "1  -0.069565     -1  \n",
      "2   0.125000     -1  \n",
      "3   0.125000     -1  \n",
      "4   0.142857     -1  \n"
     ]
    }
   ],
   "source": [
    "data2=pd.concat([fake_reviews_list_words,real_reviews_list_words])[['rating', 'list_words','num_of_words',\n",
    "                 'num_of_verbs','avg_word_len','emotiveness','num_positive','num_negative','sentiment','label']]\n",
    "print(data2.head())"
   ]
  },
  {
   "cell_type": "code",
   "execution_count": 58,
   "id": "038e07ce",
   "metadata": {},
   "outputs": [
    {
     "data": {
      "text/plain": [
       "TfidfVectorizer()"
      ]
     },
     "execution_count": 58,
     "metadata": {},
     "output_type": "execute_result"
    }
   ],
   "source": [
    "vectorizer = TfidfVectorizer()\n",
    "vectorizer.fit(data2.list_words)"
   ]
  },
  {
   "cell_type": "code",
   "execution_count": 59,
   "id": "ee0e6f3f",
   "metadata": {},
   "outputs": [],
   "source": [
    "x_data=data2.list_words\n",
    "y_data=data2.label.values.ravel()"
   ]
  },
  {
   "cell_type": "code",
   "execution_count": 60,
   "id": "095ae5b6",
   "metadata": {},
   "outputs": [],
   "source": [
    "x_train, x_test, y_train, y_test=train_test_split(x_data,y_data,test_size=0.3,shuffle=True, random_state=2)"
   ]
  },
  {
   "cell_type": "code",
   "execution_count": 61,
   "id": "3734d1d9",
   "metadata": {},
   "outputs": [],
   "source": [
    "tfidf_x_train = vectorizer.transform(x_train)\n",
    "tfidf_x_test = vectorizer.transform(x_test)"
   ]
  },
  {
   "cell_type": "code",
   "execution_count": 64,
   "id": "a3a66682",
   "metadata": {},
   "outputs": [
    {
     "name": "stdout",
     "output_type": "stream",
     "text": [
      "CPU times: total: 2.75 s\n",
      "Wall time: 2.76 s\n"
     ]
    }
   ],
   "source": [
    "%%time\n",
    "tfidf_svm = LinearSVC()\n",
    "tfidf_svm.fit(tfidf_x_train,y_train)\n",
    "y_predict_train=tfidf_svm.predict(tfidf_x_train)\n",
    "y_predict_test=tfidf_svm.predict(tfidf_x_test)"
   ]
  },
  {
   "cell_type": "code",
   "execution_count": 65,
   "id": "af2ea210",
   "metadata": {},
   "outputs": [
    {
     "name": "stdout",
     "output_type": "stream",
     "text": [
      "accuracy score: 0.6553231151615576\n",
      "precision score: 0.6614274121214709\n",
      "F1 score: 0.6504946128158277\n",
      "recall score: 0.6399173553719009\n",
      "[[16153  7927]\n",
      " [ 8714 15486]]\n",
      "              precision    recall  f1-score   support\n",
      "\n",
      "          -1       0.65      0.67      0.66     24080\n",
      "           1       0.66      0.64      0.65     24200\n",
      "\n",
      "    accuracy                           0.66     48280\n",
      "   macro avg       0.66      0.66      0.66     48280\n",
      "weighted avg       0.66      0.66      0.66     48280\n",
      "\n"
     ]
    }
   ],
   "source": [
    "print(\"accuracy score:\",accuracy_score(y_test,y_predict_test))\n",
    "print(\"precision score:\",precision_score(y_test,y_predict_test))\n",
    "print(\"F1 score:\",f1_score(y_test,y_predict_test))\n",
    "print(\"recall score:\",recall_score(y_test,y_predict_test))\n",
    "CM=confusion_matrix(y_test,y_predict_test)\n",
    "print(CM)\n",
    "print(metrics.classification_report(y_test, y_predict_test))"
   ]
  },
  {
   "cell_type": "code",
   "execution_count": 66,
   "id": "b96f7ee1",
   "metadata": {},
   "outputs": [
    {
     "name": "stdout",
     "output_type": "stream",
     "text": [
      "CPU times: total: 2h 58min 59s\n",
      "Wall time: 2h 59min 11s\n"
     ]
    }
   ],
   "source": [
    "%%time\n",
    "svc=SVC(gamma='auto',kernel='poly',C=0.01)\n",
    "svc.fit(tfidf_x_train,y_train)\n",
    "y_predict_train=svc.predict(tfidf_x_train)\n",
    "y_predict_test=svc.predict(tfidf_x_test)"
   ]
  },
  {
   "cell_type": "code",
   "execution_count": 67,
   "id": "09920ae6",
   "metadata": {},
   "outputs": [
    {
     "name": "stdout",
     "output_type": "stream",
     "text": [
      "accuracy score: 0.4987572493786247\n",
      "precision score: 0.0\n",
      "F1 score: 0.0\n",
      "recall score: 0.0\n",
      "[[24080     0]\n",
      " [24200     0]]\n",
      "              precision    recall  f1-score   support\n",
      "\n",
      "          -1       0.50      1.00      0.67     24080\n",
      "           1       0.00      0.00      0.00     24200\n",
      "\n",
      "    accuracy                           0.50     48280\n",
      "   macro avg       0.25      0.50      0.33     48280\n",
      "weighted avg       0.25      0.50      0.33     48280\n",
      "\n"
     ]
    },
    {
     "name": "stderr",
     "output_type": "stream",
     "text": [
      "F:\\Anaconda\\lib\\site-packages\\sklearn\\metrics\\_classification.py:1318: UndefinedMetricWarning: Precision is ill-defined and being set to 0.0 due to no predicted samples. Use `zero_division` parameter to control this behavior.\n",
      "  _warn_prf(average, modifier, msg_start, len(result))\n",
      "F:\\Anaconda\\lib\\site-packages\\sklearn\\metrics\\_classification.py:1318: UndefinedMetricWarning: Precision and F-score are ill-defined and being set to 0.0 in labels with no predicted samples. Use `zero_division` parameter to control this behavior.\n",
      "  _warn_prf(average, modifier, msg_start, len(result))\n",
      "F:\\Anaconda\\lib\\site-packages\\sklearn\\metrics\\_classification.py:1318: UndefinedMetricWarning: Precision and F-score are ill-defined and being set to 0.0 in labels with no predicted samples. Use `zero_division` parameter to control this behavior.\n",
      "  _warn_prf(average, modifier, msg_start, len(result))\n",
      "F:\\Anaconda\\lib\\site-packages\\sklearn\\metrics\\_classification.py:1318: UndefinedMetricWarning: Precision and F-score are ill-defined and being set to 0.0 in labels with no predicted samples. Use `zero_division` parameter to control this behavior.\n",
      "  _warn_prf(average, modifier, msg_start, len(result))\n"
     ]
    }
   ],
   "source": [
    "print(\"accuracy score:\",accuracy_score(y_test,y_predict_test))\n",
    "print(\"precision score:\",precision_score(y_test,y_predict_test))\n",
    "print(\"F1 score:\",f1_score(y_test,y_predict_test))\n",
    "print(\"recall score:\",recall_score(y_test,y_predict_test))\n",
    "CM=confusion_matrix(y_test,y_predict_test)\n",
    "print(CM)\n",
    "print(metrics.classification_report(y_test, y_predict_test))"
   ]
  },
  {
   "cell_type": "code",
   "execution_count": 73,
   "id": "e3953ec5",
   "metadata": {},
   "outputs": [
    {
     "name": "stdout",
     "output_type": "stream",
     "text": [
      "(112652, 72088)\n"
     ]
    }
   ],
   "source": [
    "print(tfidf_x_train.shape)"
   ]
  },
  {
   "cell_type": "code",
   "execution_count": null,
   "id": "ac81edae",
   "metadata": {},
   "outputs": [],
   "source": []
  }
 ],
 "metadata": {
  "kernelspec": {
   "display_name": "Python 3 (ipykernel)",
   "language": "python",
   "name": "python3"
  },
  "language_info": {
   "codemirror_mode": {
    "name": "ipython",
    "version": 3
   },
   "file_extension": ".py",
   "mimetype": "text/x-python",
   "name": "python",
   "nbconvert_exporter": "python",
   "pygments_lexer": "ipython3",
   "version": "3.9.12"
  }
 },
 "nbformat": 4,
 "nbformat_minor": 5
}
